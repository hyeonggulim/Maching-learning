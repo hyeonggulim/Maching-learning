{
 "cells": [
  {
   "cell_type": "markdown",
   "metadata": {},
   "source": [
    "## DATA LOAD"
   ]
  },
  {
   "cell_type": "code",
   "execution_count": 12,
   "metadata": {},
   "outputs": [],
   "source": [
    "import numpy as np\n",
    "import pandas as pd\n",
    "from sklearn.linear_model import LinearRegression\n",
    "from sklearn.metrics import f1_score\n",
    "from sklearn.model_selection import train_test_split\n",
    "from sklearn.metrics import mean_squared_error\n",
    "from sklearn import linear_model\n",
    "from sklearn.linear_model import Lasso\n",
    "\n",
    "from sklearn.linear_model import Ridge\n",
    "import pywt\n",
    "from sklearn.preprocessing import MinMaxScaler\n",
    "from sklearn.model_selection import GridSearchCV\n",
    "\n",
    "from sklearn.model_selection import train_test_split, GridSearchCV, cross_val_score\n",
    "from sklearn.decomposition import PCA\n",
    "model_use = LinearRegression(fit_intercept=True, normalize=True, n_jobs=None)  \n",
    "\n",
    "\n",
    "from sklearn.model_selection import KFold\n",
    "from sklearn.metrics import mean_absolute_error\n",
    "\n",
    "\n",
    "# 최대 줄 수 설정\n",
    "pd.set_option('display.max_rows', 100)\n",
    "# 최대 열 수 설정\n",
    "pd.set_option('display.max_columns', 100)"
   ]
  },
  {
   "cell_type": "code",
   "execution_count": 2,
   "metadata": {},
   "outputs": [],
   "source": [
    "data_x = pd.read_csv(\"train_x_1.csv\")\n",
    "data_y = pd.read_csv(\"train_y_1.csv\")\n",
    "del data_y['ID']"
   ]
  },
  {
   "cell_type": "code",
   "execution_count": 3,
   "metadata": {},
   "outputs": [
    {
     "data": {
      "text/plain": [
       "(404, 4676)"
      ]
     },
     "execution_count": 3,
     "metadata": {},
     "output_type": "execute_result"
    }
   ],
   "source": [
    "basic = pd.read_csv(\"basic.csv\")\n",
    "basic.shape"
   ]
  },
  {
   "cell_type": "code",
   "execution_count": 4,
   "metadata": {},
   "outputs": [],
   "source": [
    "data_div_100 = pd.read_csv(\"data_div_100.csv\")\n",
    "maxes_data = pd.read_csv(\"maxes_data.csv\")\n",
    "hands_on  = pd.read_csv(\"hands_w6.csv\")\n",
    "wave_df = pd.read_csv(\"wave_df_meanonly.csv\")\n",
    "t_wave_df = pd.read_csv(\"t_wave_df_meanonly.csv\")\n",
    "q_min_df = pd.read_csv(\"q_min.csv\")\n",
    "pca_df = pd.read_csv(\"pca_df.csv\")\n",
    "half_std = pd.read_csv(\"half_std.csv\")"
   ]
  },
  {
   "cell_type": "code",
   "execution_count": 77,
   "metadata": {},
   "outputs": [
    {
     "data": {
      "text/plain": [
       "(404, 13360)"
      ]
     },
     "execution_count": 77,
     "metadata": {},
     "output_type": "execute_result"
    }
   ],
   "source": [
    "total_df = pd.concat([basic,hands_on],axis = 1)\n",
    "#total_df = pd.concat([wave_df,hands_on,data_div_100],axis = 1)\n",
    "total_df.shape"
   ]
  },
  {
   "cell_type": "code",
   "execution_count": 7,
   "metadata": {},
   "outputs": [],
   "source": [
    "from sklearn.model_selection import KFold\n",
    "from sklearn.metrics import mean_absolute_error\n",
    "def k_fold(basic_df,model,alpha):\n",
    "    split_num =10\n",
    "    kfold = KFold(n_splits=split_num, shuffle=True, random_state=10)\n",
    "    score = []\n",
    "    score_mae= []\n",
    "    for train_index,test_index in kfold.split(basic_df):\n",
    "        train_x,valid_x = basic_df.iloc[train_index],basic_df.iloc[test_index]\n",
    "        train_y,valid_y = data_y.iloc[train_index],data_y.iloc[test_index]\n",
    "        \n",
    "        #model select\n",
    "        if model == \"lm\":\n",
    "            model_use = LinearRegression(fit_intercept=True, normalize=True, n_jobs=None)        \n",
    "        elif model == \"lasso\":\n",
    "            model_use = Lasso(alpha=alpha)\n",
    "        elif model == \"ridge\":\n",
    "            model_use = Ridge(alpha=alpha)\n",
    "        else:\n",
    "            print(\"모델이 존재하지 않습니다.\")\n",
    "            break\n",
    "        model_use.fit(train_x, train_y)\n",
    "    \n",
    "        valid_pred = model_use.predict(valid_x)\n",
    "        tem = mean_squared_error(valid_pred,valid_y)\n",
    "        \n",
    "        tem2 = mean_absolute_error(valid_pred,valid_y)\n",
    "    \n",
    "        score.append(tem)\n",
    "        score_mae.append(tem2)\n",
    "    total_score = np.mean(score)\n",
    "    total_score2 = np.mean(score_mae)\n",
    "    print(\"%s 모델 K-fold 결과 : %f \"%(model,total_score))\n",
    "    print(\"%s 모델 K-fold 결과 : %f \"%(model,total_score2))\n",
    "\n",
    "    return total_score\n"
   ]
  },
  {
   "cell_type": "code",
   "execution_count": 82,
   "metadata": {},
   "outputs": [
    {
     "name": "stdout",
     "output_type": "stream",
     "text": [
      "ridge 모델 K-fold 결과 : 0.045222 \n",
      "ridge 모델 K-fold 결과 : 0.169626 \n"
     ]
    },
    {
     "data": {
      "text/plain": [
       "0.045221511087693546"
      ]
     },
     "execution_count": 82,
     "metadata": {},
     "output_type": "execute_result"
    }
   ],
   "source": [
    "k_fold(pca_df,\"ridge\",1)"
   ]
  },
  {
   "cell_type": "code",
   "execution_count": 9,
   "metadata": {},
   "outputs": [],
   "source": [
    "from sklearn.model_selection import train_test_split, GridSearchCV, cross_val_score\n",
    "from sklearn.decomposition import SparsePCA\n",
    "model_use = LinearRegression(fit_intercept=True, normalize=True, n_jobs=None)  \n",
    "model_use2 = Ridge(alpha=0.1)\n",
    "model_use3 =Lasso(alpha=0.25)"
   ]
  },
  {
   "cell_type": "code",
   "execution_count": 104,
   "metadata": {},
   "outputs": [],
   "source": [
    "pca = PCA(n_components=50)\n",
    "tem = pca.fit_transform(total_df)\n",
    "\n",
    "pca_df = pd.DataFrame(tem)"
   ]
  },
  {
   "cell_type": "code",
   "execution_count": 105,
   "metadata": {},
   "outputs": [],
   "source": [
    "scores=cross_val_score(model_use,pca_df, data_y, scoring='neg_mean_squared_error', cv=10)"
   ]
  },
  {
   "cell_type": "code",
   "execution_count": 106,
   "metadata": {},
   "outputs": [
    {
     "data": {
      "text/plain": [
       "0.0531039970364775"
      ]
     },
     "execution_count": 106,
     "metadata": {},
     "output_type": "execute_result"
    }
   ],
   "source": [
    "-np.mean(scores)\n",
    "#0.055 -> 다른데이터"
   ]
  },
  {
   "cell_type": "markdown",
   "metadata": {},
   "source": [
    "# PCA"
   ]
  },
  {
   "cell_type": "code",
   "execution_count": 374,
   "metadata": {},
   "outputs": [
    {
     "name": "stderr",
     "output_type": "stream",
     "text": [
      "\r",
      "  0%|                                                                                          | 0/197 [00:00<?, ?it/s]"
     ]
    },
    {
     "name": "stdout",
     "output_type": "stream",
     "text": [
      "lasso 모델 K-fold 결과 : 0.252756 \n",
      "lasso 모델 K-fold 결과 : 0.389611 \n"
     ]
    },
    {
     "name": "stderr",
     "output_type": "stream",
     "text": [
      "\r",
      "  1%|▍                                                                                 | 1/197 [00:00<02:17,  1.42it/s]"
     ]
    },
    {
     "name": "stdout",
     "output_type": "stream",
     "text": [
      "lasso 모델 K-fold 결과 : 0.252756 \n",
      "lasso 모델 K-fold 결과 : 0.389611 \n",
      "lasso 모델 K-fold 결과 : 0.239447 \n",
      "lasso 모델 K-fold 결과 : 0.372511 \n"
     ]
    },
    {
     "name": "stderr",
     "output_type": "stream",
     "text": [
      "\r",
      "  1%|▊                                                                                 | 2/197 [00:01<02:18,  1.41it/s]"
     ]
    },
    {
     "name": "stdout",
     "output_type": "stream",
     "text": [
      "lasso 모델 K-fold 결과 : 0.239447 \n",
      "lasso 모델 K-fold 결과 : 0.372511 \n",
      "lasso 모델 K-fold 결과 : 0.239753 \n",
      "lasso 모델 K-fold 결과 : 0.372598 \n"
     ]
    },
    {
     "name": "stderr",
     "output_type": "stream",
     "text": [
      "\r",
      "  2%|█▏                                                                                | 3/197 [00:02<02:19,  1.39it/s]"
     ]
    },
    {
     "name": "stdout",
     "output_type": "stream",
     "text": [
      "lasso 모델 K-fold 결과 : 0.239753 \n",
      "lasso 모델 K-fold 결과 : 0.372598 \n",
      "lasso 모델 K-fold 결과 : 0.239718 \n",
      "lasso 모델 K-fold 결과 : 0.372582 \n"
     ]
    },
    {
     "name": "stderr",
     "output_type": "stream",
     "text": [
      "\r",
      "  2%|█▋                                                                                | 4/197 [00:02<02:19,  1.38it/s]"
     ]
    },
    {
     "name": "stdout",
     "output_type": "stream",
     "text": [
      "lasso 모델 K-fold 결과 : 0.239718 \n",
      "lasso 모델 K-fold 결과 : 0.372582 \n",
      "lasso 모델 K-fold 결과 : 0.231881 \n",
      "lasso 모델 K-fold 결과 : 0.373094 \n"
     ]
    },
    {
     "name": "stderr",
     "output_type": "stream",
     "text": [
      "\r",
      "  3%|██                                                                                | 5/197 [00:03<02:19,  1.37it/s]"
     ]
    },
    {
     "name": "stdout",
     "output_type": "stream",
     "text": [
      "lasso 모델 K-fold 결과 : 0.231880 \n",
      "lasso 모델 K-fold 결과 : 0.373094 \n",
      "lasso 모델 K-fold 결과 : 0.231975 \n",
      "lasso 모델 K-fold 결과 : 0.373006 \n"
     ]
    },
    {
     "name": "stderr",
     "output_type": "stream",
     "text": [
      "\r",
      "  3%|██▍                                                                               | 6/197 [00:04<02:19,  1.36it/s]"
     ]
    },
    {
     "name": "stdout",
     "output_type": "stream",
     "text": [
      "lasso 모델 K-fold 결과 : 0.231976 \n",
      "lasso 모델 K-fold 결과 : 0.373006 \n",
      "lasso 모델 K-fold 결과 : 0.221448 \n",
      "lasso 모델 K-fold 결과 : 0.361817 \n"
     ]
    },
    {
     "name": "stderr",
     "output_type": "stream",
     "text": [
      "\r",
      "  4%|██▉                                                                               | 7/197 [00:05<02:21,  1.34it/s]"
     ]
    },
    {
     "name": "stdout",
     "output_type": "stream",
     "text": [
      "lasso 모델 K-fold 결과 : 0.221448 \n",
      "lasso 모델 K-fold 결과 : 0.361817 \n",
      "lasso 모델 K-fold 결과 : 0.217746 \n",
      "lasso 모델 K-fold 결과 : 0.363608 \n"
     ]
    },
    {
     "name": "stderr",
     "output_type": "stream",
     "text": [
      "\r",
      "  4%|███▎                                                                              | 8/197 [00:05<02:21,  1.33it/s]"
     ]
    },
    {
     "name": "stdout",
     "output_type": "stream",
     "text": [
      "lasso 모델 K-fold 결과 : 0.217746 \n",
      "lasso 모델 K-fold 결과 : 0.363608 \n",
      "lasso 모델 K-fold 결과 : 0.217524 \n",
      "lasso 모델 K-fold 결과 : 0.364405 \n"
     ]
    },
    {
     "name": "stderr",
     "output_type": "stream",
     "text": [
      "\r",
      "  5%|███▋                                                                              | 9/197 [00:06<02:21,  1.33it/s]"
     ]
    },
    {
     "name": "stdout",
     "output_type": "stream",
     "text": [
      "lasso 모델 K-fold 결과 : 0.217524 \n",
      "lasso 모델 K-fold 결과 : 0.364405 \n",
      "lasso 모델 K-fold 결과 : 0.214351 \n",
      "lasso 모델 K-fold 결과 : 0.359540 \n"
     ]
    },
    {
     "name": "stderr",
     "output_type": "stream",
     "text": [
      "\r",
      "  5%|████                                                                             | 10/197 [00:07<02:20,  1.33it/s]"
     ]
    },
    {
     "name": "stdout",
     "output_type": "stream",
     "text": [
      "lasso 모델 K-fold 결과 : 0.214351 \n",
      "lasso 모델 K-fold 결과 : 0.359540 \n",
      "lasso 모델 K-fold 결과 : 0.211999 \n",
      "lasso 모델 K-fold 결과 : 0.360047 \n"
     ]
    },
    {
     "name": "stderr",
     "output_type": "stream",
     "text": [
      "\r",
      "  6%|████▌                                                                            | 11/197 [00:08<02:21,  1.31it/s]"
     ]
    },
    {
     "name": "stdout",
     "output_type": "stream",
     "text": [
      "lasso 모델 K-fold 결과 : 0.211999 \n",
      "lasso 모델 K-fold 결과 : 0.360048 \n",
      "lasso 모델 K-fold 결과 : 0.187820 \n",
      "lasso 모델 K-fold 결과 : 0.333637 \n"
     ]
    },
    {
     "name": "stderr",
     "output_type": "stream",
     "text": [
      "\r",
      "  6%|████▉                                                                            | 12/197 [00:09<02:23,  1.29it/s]"
     ]
    },
    {
     "name": "stdout",
     "output_type": "stream",
     "text": [
      "lasso 모델 K-fold 결과 : 0.187821 \n",
      "lasso 모델 K-fold 결과 : 0.333639 \n",
      "lasso 모델 K-fold 결과 : 0.186510 \n",
      "lasso 모델 K-fold 결과 : 0.331414 \n"
     ]
    },
    {
     "name": "stderr",
     "output_type": "stream",
     "text": [
      "\r",
      "  7%|█████▎                                                                           | 13/197 [00:09<02:24,  1.27it/s]"
     ]
    },
    {
     "name": "stdout",
     "output_type": "stream",
     "text": [
      "lasso 모델 K-fold 결과 : 0.186505 \n",
      "lasso 모델 K-fold 결과 : 0.331411 \n",
      "lasso 모델 K-fold 결과 : 0.174133 \n",
      "lasso 모델 K-fold 결과 : 0.320486 \n"
     ]
    },
    {
     "name": "stderr",
     "output_type": "stream",
     "text": [
      "\r",
      "  7%|█████▊                                                                           | 14/197 [00:10<02:25,  1.26it/s]"
     ]
    },
    {
     "name": "stdout",
     "output_type": "stream",
     "text": [
      "lasso 모델 K-fold 결과 : 0.174060 \n",
      "lasso 모델 K-fold 결과 : 0.320421 \n",
      "lasso 모델 K-fold 결과 : 0.065597 \n",
      "lasso 모델 K-fold 결과 : 0.198574 \n"
     ]
    },
    {
     "name": "stderr",
     "output_type": "stream",
     "text": [
      "\r",
      "  8%|██████▏                                                                          | 15/197 [00:11<02:25,  1.25it/s]"
     ]
    },
    {
     "name": "stdout",
     "output_type": "stream",
     "text": [
      "lasso 모델 K-fold 결과 : 0.065583 \n",
      "lasso 모델 K-fold 결과 : 0.198548 \n",
      "lasso 모델 K-fold 결과 : 0.066390 \n",
      "lasso 모델 K-fold 결과 : 0.199230 \n"
     ]
    },
    {
     "name": "stderr",
     "output_type": "stream",
     "text": [
      "\r",
      "  8%|██████▌                                                                          | 16/197 [00:12<02:25,  1.24it/s]"
     ]
    },
    {
     "name": "stdout",
     "output_type": "stream",
     "text": [
      "lasso 모델 K-fold 결과 : 0.066413 \n",
      "lasso 모델 K-fold 결과 : 0.199253 \n",
      "lasso 모델 K-fold 결과 : 0.066423 \n",
      "lasso 모델 K-fold 결과 : 0.198988 \n"
     ]
    },
    {
     "name": "stderr",
     "output_type": "stream",
     "text": [
      "\r",
      "  9%|██████▉                                                                          | 17/197 [00:13<02:27,  1.22it/s]"
     ]
    },
    {
     "name": "stdout",
     "output_type": "stream",
     "text": [
      "lasso 모델 K-fold 결과 : 0.066425 \n",
      "lasso 모델 K-fold 결과 : 0.198993 \n",
      "lasso 모델 K-fold 결과 : 0.067280 \n",
      "lasso 모델 K-fold 결과 : 0.198979 \n"
     ]
    },
    {
     "name": "stderr",
     "output_type": "stream",
     "text": [
      "\r",
      "  9%|███████▍                                                                         | 18/197 [00:13<02:26,  1.22it/s]"
     ]
    },
    {
     "name": "stdout",
     "output_type": "stream",
     "text": [
      "lasso 모델 K-fold 결과 : 0.067289 \n",
      "lasso 모델 K-fold 결과 : 0.199004 \n",
      "lasso 모델 K-fold 결과 : 0.065770 \n",
      "lasso 모델 K-fold 결과 : 0.198055 \n"
     ]
    },
    {
     "name": "stderr",
     "output_type": "stream",
     "text": [
      "\r",
      " 10%|███████▊                                                                         | 19/197 [00:14<02:26,  1.22it/s]"
     ]
    },
    {
     "name": "stdout",
     "output_type": "stream",
     "text": [
      "lasso 모델 K-fold 결과 : 0.065770 \n",
      "lasso 모델 K-fold 결과 : 0.198056 \n",
      "lasso 모델 K-fold 결과 : 0.064550 \n",
      "lasso 모델 K-fold 결과 : 0.196203 \n"
     ]
    },
    {
     "name": "stderr",
     "output_type": "stream",
     "text": [
      "\r",
      " 10%|████████▏                                                                        | 20/197 [00:15<02:29,  1.19it/s]"
     ]
    },
    {
     "name": "stdout",
     "output_type": "stream",
     "text": [
      "lasso 모델 K-fold 결과 : 0.064551 \n",
      "lasso 모델 K-fold 결과 : 0.196196 \n",
      "lasso 모델 K-fold 결과 : 0.060065 \n",
      "lasso 모델 K-fold 결과 : 0.191737 \n"
     ]
    },
    {
     "name": "stderr",
     "output_type": "stream",
     "text": [
      "\r",
      " 11%|████████▋                                                                        | 21/197 [00:16<02:31,  1.16it/s]"
     ]
    },
    {
     "name": "stdout",
     "output_type": "stream",
     "text": [
      "lasso 모델 K-fold 결과 : 0.060124 \n",
      "lasso 모델 K-fold 결과 : 0.191753 \n",
      "lasso 모델 K-fold 결과 : 0.060423 \n",
      "lasso 모델 K-fold 결과 : 0.192312 \n"
     ]
    },
    {
     "name": "stderr",
     "output_type": "stream",
     "text": [
      "\r",
      " 11%|█████████                                                                        | 22/197 [00:17<02:34,  1.14it/s]"
     ]
    },
    {
     "name": "stdout",
     "output_type": "stream",
     "text": [
      "lasso 모델 K-fold 결과 : 0.060417 \n",
      "lasso 모델 K-fold 결과 : 0.192309 \n",
      "lasso 모델 K-fold 결과 : 0.060844 \n",
      "lasso 모델 K-fold 결과 : 0.192388 \n"
     ]
    },
    {
     "name": "stderr",
     "output_type": "stream",
     "text": [
      "\r",
      " 12%|█████████▍                                                                       | 23/197 [00:18<02:32,  1.14it/s]"
     ]
    },
    {
     "name": "stdout",
     "output_type": "stream",
     "text": [
      "lasso 모델 K-fold 결과 : 0.060844 \n",
      "lasso 모델 K-fold 결과 : 0.192387 \n",
      "lasso 모델 K-fold 결과 : 0.059764 \n",
      "lasso 모델 K-fold 결과 : 0.192620 \n"
     ]
    },
    {
     "name": "stderr",
     "output_type": "stream",
     "text": [
      "\r",
      " 12%|█████████▊                                                                       | 24/197 [00:19<02:31,  1.14it/s]"
     ]
    },
    {
     "name": "stdout",
     "output_type": "stream",
     "text": [
      "lasso 모델 K-fold 결과 : 0.059761 \n",
      "lasso 모델 K-fold 결과 : 0.192621 \n",
      "lasso 모델 K-fold 결과 : 0.060429 \n",
      "lasso 모델 K-fold 결과 : 0.192723 \n"
     ]
    },
    {
     "name": "stderr",
     "output_type": "stream",
     "text": [
      "\r",
      " 13%|██████████▎                                                                      | 25/197 [00:20<02:29,  1.15it/s]"
     ]
    },
    {
     "name": "stdout",
     "output_type": "stream",
     "text": [
      "lasso 모델 K-fold 결과 : 0.060428 \n",
      "lasso 모델 K-fold 결과 : 0.192719 \n",
      "lasso 모델 K-fold 결과 : 0.054494 \n",
      "lasso 모델 K-fold 결과 : 0.187054 \n"
     ]
    },
    {
     "name": "stderr",
     "output_type": "stream",
     "text": [
      "\r",
      " 13%|██████████▋                                                                      | 26/197 [00:20<02:29,  1.15it/s]"
     ]
    },
    {
     "name": "stdout",
     "output_type": "stream",
     "text": [
      "lasso 모델 K-fold 결과 : 0.054490 \n",
      "lasso 모델 K-fold 결과 : 0.187041 \n",
      "lasso 모델 K-fold 결과 : 0.054930 \n",
      "lasso 모델 K-fold 결과 : 0.187827 \n"
     ]
    },
    {
     "name": "stderr",
     "output_type": "stream",
     "text": [
      "\r",
      " 14%|███████████                                                                      | 27/197 [00:21<02:29,  1.13it/s]"
     ]
    },
    {
     "name": "stdout",
     "output_type": "stream",
     "text": [
      "lasso 모델 K-fold 결과 : 0.054923 \n",
      "lasso 모델 K-fold 결과 : 0.187818 \n",
      "lasso 모델 K-fold 결과 : 0.054213 \n",
      "lasso 모델 K-fold 결과 : 0.187428 \n"
     ]
    },
    {
     "name": "stderr",
     "output_type": "stream",
     "text": [
      "\r",
      " 14%|███████████▌                                                                     | 28/197 [00:22<02:32,  1.11it/s]"
     ]
    },
    {
     "name": "stdout",
     "output_type": "stream",
     "text": [
      "lasso 모델 K-fold 결과 : 0.054216 \n",
      "lasso 모델 K-fold 결과 : 0.187424 \n",
      "lasso 모델 K-fold 결과 : 0.052430 \n",
      "lasso 모델 K-fold 결과 : 0.183595 \n"
     ]
    },
    {
     "name": "stderr",
     "output_type": "stream",
     "text": [
      "\r",
      " 15%|███████████▉                                                                     | 29/197 [00:23<02:32,  1.10it/s]"
     ]
    },
    {
     "name": "stdout",
     "output_type": "stream",
     "text": [
      "lasso 모델 K-fold 결과 : 0.052436 \n",
      "lasso 모델 K-fold 결과 : 0.183601 \n",
      "lasso 모델 K-fold 결과 : 0.052270 \n",
      "lasso 모델 K-fold 결과 : 0.183116 \n"
     ]
    },
    {
     "name": "stderr",
     "output_type": "stream",
     "text": [
      "\r",
      " 15%|████████████▎                                                                    | 30/197 [00:24<02:32,  1.10it/s]"
     ]
    },
    {
     "name": "stdout",
     "output_type": "stream",
     "text": [
      "lasso 모델 K-fold 결과 : 0.052269 \n",
      "lasso 모델 K-fold 결과 : 0.183111 \n",
      "lasso 모델 K-fold 결과 : 0.051228 \n",
      "lasso 모델 K-fold 결과 : 0.181413 \n"
     ]
    },
    {
     "name": "stderr",
     "output_type": "stream",
     "text": [
      "\r",
      " 16%|████████████▋                                                                    | 31/197 [00:25<02:32,  1.09it/s]"
     ]
    },
    {
     "name": "stdout",
     "output_type": "stream",
     "text": [
      "lasso 모델 K-fold 결과 : 0.051230 \n",
      "lasso 모델 K-fold 결과 : 0.181414 \n",
      "lasso 모델 K-fold 결과 : 0.050974 \n",
      "lasso 모델 K-fold 결과 : 0.181639 \n"
     ]
    },
    {
     "name": "stderr",
     "output_type": "stream",
     "text": [
      "\r",
      " 16%|█████████████▏                                                                   | 32/197 [00:26<02:32,  1.08it/s]"
     ]
    },
    {
     "name": "stdout",
     "output_type": "stream",
     "text": [
      "lasso 모델 K-fold 결과 : 0.050965 \n",
      "lasso 모델 K-fold 결과 : 0.181626 \n",
      "lasso 모델 K-fold 결과 : 0.050841 \n",
      "lasso 모델 K-fold 결과 : 0.181072 \n"
     ]
    },
    {
     "name": "stderr",
     "output_type": "stream",
     "text": [
      "\r",
      " 17%|█████████████▌                                                                   | 33/197 [00:27<02:31,  1.08it/s]"
     ]
    },
    {
     "name": "stdout",
     "output_type": "stream",
     "text": [
      "lasso 모델 K-fold 결과 : 0.050835 \n",
      "lasso 모델 K-fold 결과 : 0.181056 \n",
      "lasso 모델 K-fold 결과 : 0.051140 \n",
      "lasso 모델 K-fold 결과 : 0.181507 \n"
     ]
    },
    {
     "name": "stderr",
     "output_type": "stream",
     "text": [
      "\r",
      " 17%|█████████████▉                                                                   | 34/197 [00:28<02:32,  1.07it/s]"
     ]
    },
    {
     "name": "stdout",
     "output_type": "stream",
     "text": [
      "lasso 모델 K-fold 결과 : 0.051164 \n",
      "lasso 모델 K-fold 결과 : 0.181564 \n",
      "lasso 모델 K-fold 결과 : 0.051321 \n",
      "lasso 모델 K-fold 결과 : 0.180826 \n"
     ]
    },
    {
     "name": "stderr",
     "output_type": "stream",
     "text": [
      "\r",
      " 18%|██████████████▍                                                                  | 35/197 [00:29<02:32,  1.06it/s]"
     ]
    },
    {
     "name": "stdout",
     "output_type": "stream",
     "text": [
      "lasso 모델 K-fold 결과 : 0.051326 \n",
      "lasso 모델 K-fold 결과 : 0.180842 \n",
      "lasso 모델 K-fold 결과 : 0.051061 \n",
      "lasso 모델 K-fold 결과 : 0.178447 \n"
     ]
    },
    {
     "name": "stderr",
     "output_type": "stream",
     "text": [
      "\r",
      " 18%|██████████████▊                                                                  | 36/197 [00:30<02:34,  1.04it/s]"
     ]
    },
    {
     "name": "stdout",
     "output_type": "stream",
     "text": [
      "lasso 모델 K-fold 결과 : 0.051048 \n",
      "lasso 모델 K-fold 결과 : 0.178420 \n",
      "lasso 모델 K-fold 결과 : 0.051477 \n",
      "lasso 모델 K-fold 결과 : 0.179077 \n"
     ]
    },
    {
     "name": "stderr",
     "output_type": "stream",
     "text": [
      "\r",
      " 19%|███████████████▏                                                                 | 37/197 [00:31<02:48,  1.05s/it]"
     ]
    },
    {
     "name": "stdout",
     "output_type": "stream",
     "text": [
      "lasso 모델 K-fold 결과 : 0.051475 \n",
      "lasso 모델 K-fold 결과 : 0.179064 \n",
      "lasso 모델 K-fold 결과 : 0.050082 \n",
      "lasso 모델 K-fold 결과 : 0.176288 \n"
     ]
    },
    {
     "name": "stderr",
     "output_type": "stream",
     "text": [
      "\r",
      " 19%|███████████████▌                                                                 | 38/197 [00:32<02:51,  1.08s/it]"
     ]
    },
    {
     "name": "stdout",
     "output_type": "stream",
     "text": [
      "lasso 모델 K-fold 결과 : 0.050121 \n",
      "lasso 모델 K-fold 결과 : 0.176319 \n",
      "lasso 모델 K-fold 결과 : 0.050462 \n",
      "lasso 모델 K-fold 결과 : 0.176789 \n"
     ]
    },
    {
     "name": "stderr",
     "output_type": "stream",
     "text": [
      "\r",
      " 20%|████████████████                                                                 | 39/197 [00:33<02:48,  1.07s/it]"
     ]
    },
    {
     "name": "stdout",
     "output_type": "stream",
     "text": [
      "lasso 모델 K-fold 결과 : 0.050284 \n",
      "lasso 모델 K-fold 결과 : 0.176570 \n",
      "lasso 모델 K-fold 결과 : 0.050244 \n",
      "lasso 모델 K-fold 결과 : 0.176453 \n"
     ]
    },
    {
     "name": "stderr",
     "output_type": "stream",
     "text": [
      "\r",
      " 20%|████████████████▍                                                                | 40/197 [00:34<02:36,  1.00it/s]"
     ]
    },
    {
     "name": "stdout",
     "output_type": "stream",
     "text": [
      "lasso 모델 K-fold 결과 : 0.050061 \n",
      "lasso 모델 K-fold 결과 : 0.176143 \n",
      "lasso 모델 K-fold 결과 : 0.048878 \n",
      "lasso 모델 K-fold 결과 : 0.173292 \n"
     ]
    },
    {
     "name": "stderr",
     "output_type": "stream",
     "text": [
      "\r",
      " 21%|████████████████▊                                                                | 41/197 [00:35<02:29,  1.04it/s]"
     ]
    },
    {
     "name": "stdout",
     "output_type": "stream",
     "text": [
      "lasso 모델 K-fold 결과 : 0.048734 \n",
      "lasso 모델 K-fold 결과 : 0.173009 \n",
      "lasso 모델 K-fold 결과 : 0.048993 \n",
      "lasso 모델 K-fold 결과 : 0.173010 \n"
     ]
    },
    {
     "name": "stderr",
     "output_type": "stream",
     "text": [
      "\r",
      " 21%|█████████████████▎                                                               | 42/197 [00:36<02:24,  1.08it/s]"
     ]
    },
    {
     "name": "stdout",
     "output_type": "stream",
     "text": [
      "lasso 모델 K-fold 결과 : 0.049230 \n",
      "lasso 모델 K-fold 결과 : 0.173277 \n",
      "lasso 모델 K-fold 결과 : 0.049497 \n",
      "lasso 모델 K-fold 결과 : 0.174575 \n"
     ]
    },
    {
     "name": "stderr",
     "output_type": "stream",
     "text": [
      "\r",
      " 22%|█████████████████▋                                                               | 43/197 [00:37<02:21,  1.09it/s]"
     ]
    },
    {
     "name": "stdout",
     "output_type": "stream",
     "text": [
      "lasso 모델 K-fold 결과 : 0.049401 \n",
      "lasso 모델 K-fold 결과 : 0.174784 \n",
      "lasso 모델 K-fold 결과 : 0.049371 \n",
      "lasso 모델 K-fold 결과 : 0.175340 \n"
     ]
    },
    {
     "name": "stderr",
     "output_type": "stream",
     "text": [
      "\r",
      " 22%|██████████████████                                                               | 44/197 [00:38<02:18,  1.11it/s]"
     ]
    },
    {
     "name": "stdout",
     "output_type": "stream",
     "text": [
      "lasso 모델 K-fold 결과 : 0.048936 \n",
      "lasso 모델 K-fold 결과 : 0.175105 \n",
      "lasso 모델 K-fold 결과 : 0.049801 \n",
      "lasso 모델 K-fold 결과 : 0.175993 \n"
     ]
    },
    {
     "name": "stderr",
     "output_type": "stream",
     "text": [
      "\r",
      " 23%|██████████████████▌                                                              | 45/197 [00:39<02:16,  1.11it/s]"
     ]
    },
    {
     "name": "stdout",
     "output_type": "stream",
     "text": [
      "lasso 모델 K-fold 결과 : 0.049429 \n",
      "lasso 모델 K-fold 결과 : 0.175835 \n",
      "lasso 모델 K-fold 결과 : 0.049480 \n",
      "lasso 모델 K-fold 결과 : 0.176258 \n"
     ]
    },
    {
     "name": "stderr",
     "output_type": "stream",
     "text": [
      "\r",
      " 23%|██████████████████▉                                                              | 46/197 [00:39<02:14,  1.12it/s]"
     ]
    },
    {
     "name": "stdout",
     "output_type": "stream",
     "text": [
      "lasso 모델 K-fold 결과 : 0.049249 \n",
      "lasso 모델 K-fold 결과 : 0.175588 \n",
      "lasso 모델 K-fold 결과 : 0.049687 \n",
      "lasso 모델 K-fold 결과 : 0.176335 \n"
     ]
    },
    {
     "name": "stderr",
     "output_type": "stream",
     "text": [
      "\r",
      " 24%|███████████████████▎                                                             | 47/197 [00:40<02:12,  1.13it/s]"
     ]
    },
    {
     "name": "stdout",
     "output_type": "stream",
     "text": [
      "lasso 모델 K-fold 결과 : 0.049276 \n",
      "lasso 모델 K-fold 결과 : 0.175809 \n",
      "lasso 모델 K-fold 결과 : 0.049657 \n",
      "lasso 모델 K-fold 결과 : 0.176523 \n"
     ]
    },
    {
     "name": "stderr",
     "output_type": "stream",
     "text": [
      "\r",
      " 24%|███████████████████▋                                                             | 48/197 [00:41<02:10,  1.14it/s]"
     ]
    },
    {
     "name": "stdout",
     "output_type": "stream",
     "text": [
      "lasso 모델 K-fold 결과 : 0.048790 \n",
      "lasso 모델 K-fold 결과 : 0.174789 \n",
      "lasso 모델 K-fold 결과 : 0.048501 \n",
      "lasso 모델 K-fold 결과 : 0.174719 \n"
     ]
    },
    {
     "name": "stderr",
     "output_type": "stream",
     "text": [
      "\r",
      " 25%|████████████████████▏                                                            | 49/197 [00:42<02:10,  1.13it/s]"
     ]
    },
    {
     "name": "stdout",
     "output_type": "stream",
     "text": [
      "lasso 모델 K-fold 결과 : 0.049127 \n",
      "lasso 모델 K-fold 결과 : 0.175781 \n",
      "lasso 모델 K-fold 결과 : 0.049440 \n",
      "lasso 모델 K-fold 결과 : 0.176461 \n"
     ]
    },
    {
     "name": "stderr",
     "output_type": "stream",
     "text": [
      "\r",
      " 25%|████████████████████▌                                                            | 50/197 [00:43<02:10,  1.12it/s]"
     ]
    },
    {
     "name": "stdout",
     "output_type": "stream",
     "text": [
      "lasso 모델 K-fold 결과 : 0.049306 \n",
      "lasso 모델 K-fold 결과 : 0.176595 \n",
      "lasso 모델 K-fold 결과 : 0.049873 \n",
      "lasso 모델 K-fold 결과 : 0.177065 \n"
     ]
    },
    {
     "name": "stderr",
     "output_type": "stream",
     "text": [
      "\r",
      " 26%|████████████████████▉                                                            | 51/197 [00:44<02:10,  1.12it/s]"
     ]
    },
    {
     "name": "stdout",
     "output_type": "stream",
     "text": [
      "lasso 모델 K-fold 결과 : 0.049225 \n",
      "lasso 모델 K-fold 결과 : 0.176107 \n",
      "lasso 모델 K-fold 결과 : 0.047178 \n",
      "lasso 모델 K-fold 결과 : 0.173321 \n"
     ]
    },
    {
     "name": "stderr",
     "output_type": "stream",
     "text": [
      "\r",
      " 26%|█████████████████████▍                                                           | 52/197 [00:45<02:13,  1.09it/s]"
     ]
    },
    {
     "name": "stdout",
     "output_type": "stream",
     "text": [
      "lasso 모델 K-fold 결과 : 0.047111 \n",
      "lasso 모델 K-fold 결과 : 0.173187 \n",
      "lasso 모델 K-fold 결과 : 0.046976 \n",
      "lasso 모델 K-fold 결과 : 0.172211 \n"
     ]
    },
    {
     "name": "stderr",
     "output_type": "stream",
     "text": [
      "\r",
      " 27%|█████████████████████▊                                                           | 53/197 [00:46<02:12,  1.08it/s]"
     ]
    },
    {
     "name": "stdout",
     "output_type": "stream",
     "text": [
      "lasso 모델 K-fold 결과 : 0.046852 \n",
      "lasso 모델 K-fold 결과 : 0.172222 \n",
      "lasso 모델 K-fold 결과 : 0.046836 \n",
      "lasso 모델 K-fold 결과 : 0.172712 \n"
     ]
    },
    {
     "name": "stderr",
     "output_type": "stream",
     "text": [
      "\r",
      " 27%|██████████████████████▏                                                          | 54/197 [00:47<02:11,  1.09it/s]"
     ]
    },
    {
     "name": "stdout",
     "output_type": "stream",
     "text": [
      "lasso 모델 K-fold 결과 : 0.046878 \n",
      "lasso 모델 K-fold 결과 : 0.172475 \n",
      "lasso 모델 K-fold 결과 : 0.047280 \n",
      "lasso 모델 K-fold 결과 : 0.173571 \n"
     ]
    },
    {
     "name": "stderr",
     "output_type": "stream",
     "text": [
      "\r",
      " 28%|██████████████████████▌                                                          | 55/197 [00:48<02:10,  1.08it/s]"
     ]
    },
    {
     "name": "stdout",
     "output_type": "stream",
     "text": [
      "lasso 모델 K-fold 결과 : 0.047212 \n",
      "lasso 모델 K-fold 결과 : 0.172867 \n",
      "lasso 모델 K-fold 결과 : 0.047843 \n",
      "lasso 모델 K-fold 결과 : 0.173163 \n"
     ]
    },
    {
     "name": "stderr",
     "output_type": "stream",
     "text": [
      "\r",
      " 28%|███████████████████████                                                          | 56/197 [00:49<02:10,  1.08it/s]"
     ]
    },
    {
     "name": "stdout",
     "output_type": "stream",
     "text": [
      "lasso 모델 K-fold 결과 : 0.047509 \n",
      "lasso 모델 K-fold 결과 : 0.173643 \n",
      "lasso 모델 K-fold 결과 : 0.046632 \n",
      "lasso 모델 K-fold 결과 : 0.172913 \n"
     ]
    },
    {
     "name": "stderr",
     "output_type": "stream",
     "text": [
      "\r",
      " 29%|███████████████████████▍                                                         | 57/197 [00:49<02:09,  1.08it/s]"
     ]
    },
    {
     "name": "stdout",
     "output_type": "stream",
     "text": [
      "lasso 모델 K-fold 결과 : 0.047226 \n",
      "lasso 모델 K-fold 결과 : 0.172735 \n",
      "lasso 모델 K-fold 결과 : 0.046929 \n",
      "lasso 모델 K-fold 결과 : 0.173243 \n"
     ]
    },
    {
     "name": "stderr",
     "output_type": "stream",
     "text": [
      "\r",
      " 29%|███████████████████████▊                                                         | 58/197 [00:50<02:09,  1.08it/s]"
     ]
    },
    {
     "name": "stdout",
     "output_type": "stream",
     "text": [
      "lasso 모델 K-fold 결과 : 0.047387 \n",
      "lasso 모델 K-fold 결과 : 0.173312 \n",
      "lasso 모델 K-fold 결과 : 0.047258 \n",
      "lasso 모델 K-fold 결과 : 0.173646 \n"
     ]
    },
    {
     "name": "stderr",
     "output_type": "stream",
     "text": [
      "\r",
      " 30%|████████████████████████▎                                                        | 59/197 [00:51<02:08,  1.07it/s]"
     ]
    },
    {
     "name": "stdout",
     "output_type": "stream",
     "text": [
      "lasso 모델 K-fold 결과 : 0.047078 \n",
      "lasso 모델 K-fold 결과 : 0.173501 \n",
      "lasso 모델 K-fold 결과 : 0.047990 \n",
      "lasso 모델 K-fold 결과 : 0.174302 \n"
     ]
    },
    {
     "name": "stderr",
     "output_type": "stream",
     "text": [
      "\r",
      " 30%|████████████████████████▋                                                        | 60/197 [00:52<02:08,  1.07it/s]"
     ]
    },
    {
     "name": "stdout",
     "output_type": "stream",
     "text": [
      "lasso 모델 K-fold 결과 : 0.046968 \n",
      "lasso 모델 K-fold 결과 : 0.172911 \n",
      "lasso 모델 K-fold 결과 : 0.047606 \n",
      "lasso 모델 K-fold 결과 : 0.174867 \n"
     ]
    },
    {
     "name": "stderr",
     "output_type": "stream",
     "text": [
      "\r",
      " 31%|█████████████████████████                                                        | 61/197 [00:53<02:07,  1.07it/s]"
     ]
    },
    {
     "name": "stdout",
     "output_type": "stream",
     "text": [
      "lasso 모델 K-fold 결과 : 0.047214 \n",
      "lasso 모델 K-fold 결과 : 0.174828 \n",
      "lasso 모델 K-fold 결과 : 0.047039 \n",
      "lasso 모델 K-fold 결과 : 0.172976 \n"
     ]
    },
    {
     "name": "stderr",
     "output_type": "stream",
     "text": [
      "\r",
      " 31%|█████████████████████████▍                                                       | 62/197 [00:54<02:07,  1.06it/s]"
     ]
    },
    {
     "name": "stdout",
     "output_type": "stream",
     "text": [
      "lasso 모델 K-fold 결과 : 0.047746 \n",
      "lasso 모델 K-fold 결과 : 0.174518 \n",
      "lasso 모델 K-fold 결과 : 0.046861 \n",
      "lasso 모델 K-fold 결과 : 0.174285 \n"
     ]
    },
    {
     "name": "stderr",
     "output_type": "stream",
     "text": [
      "\r",
      " 32%|█████████████████████████▉                                                       | 63/197 [00:55<02:07,  1.05it/s]"
     ]
    },
    {
     "name": "stdout",
     "output_type": "stream",
     "text": [
      "lasso 모델 K-fold 결과 : 0.047638 \n",
      "lasso 모델 K-fold 결과 : 0.175799 \n",
      "lasso 모델 K-fold 결과 : 0.046536 \n",
      "lasso 모델 K-fold 결과 : 0.171621 \n"
     ]
    },
    {
     "name": "stderr",
     "output_type": "stream",
     "text": [
      "\r",
      " 32%|██████████████████████████▎                                                      | 64/197 [00:56<02:07,  1.04it/s]"
     ]
    },
    {
     "name": "stdout",
     "output_type": "stream",
     "text": [
      "lasso 모델 K-fold 결과 : 0.046245 \n",
      "lasso 모델 K-fold 결과 : 0.172547 \n",
      "lasso 모델 K-fold 결과 : 0.047726 \n",
      "lasso 모델 K-fold 결과 : 0.175543 \n"
     ]
    },
    {
     "name": "stderr",
     "output_type": "stream",
     "text": [
      "\r",
      " 33%|██████████████████████████▋                                                      | 65/197 [00:57<02:07,  1.04it/s]"
     ]
    },
    {
     "name": "stdout",
     "output_type": "stream",
     "text": [
      "lasso 모델 K-fold 결과 : 0.046824 \n",
      "lasso 모델 K-fold 결과 : 0.173178 \n",
      "lasso 모델 K-fold 결과 : 0.047213 \n",
      "lasso 모델 K-fold 결과 : 0.174452 \n"
     ]
    },
    {
     "name": "stderr",
     "output_type": "stream",
     "text": [
      "\r",
      " 34%|███████████████████████████▏                                                     | 66/197 [00:58<02:07,  1.03it/s]"
     ]
    },
    {
     "name": "stdout",
     "output_type": "stream",
     "text": [
      "lasso 모델 K-fold 결과 : 0.046660 \n",
      "lasso 모델 K-fold 결과 : 0.173453 \n",
      "lasso 모델 K-fold 결과 : 0.046397 \n",
      "lasso 모델 K-fold 결과 : 0.174286 \n"
     ]
    },
    {
     "name": "stderr",
     "output_type": "stream",
     "text": [
      "\r",
      " 34%|███████████████████████████▌                                                     | 67/197 [00:59<02:07,  1.02it/s]"
     ]
    },
    {
     "name": "stdout",
     "output_type": "stream",
     "text": [
      "lasso 모델 K-fold 결과 : 0.047906 \n",
      "lasso 모델 K-fold 결과 : 0.174339 \n",
      "lasso 모델 K-fold 결과 : 0.047649 \n",
      "lasso 모델 K-fold 결과 : 0.176242 \n"
     ]
    },
    {
     "name": "stderr",
     "output_type": "stream",
     "text": [
      "\r",
      " 35%|███████████████████████████▉                                                     | 68/197 [01:00<02:06,  1.02it/s]"
     ]
    },
    {
     "name": "stdout",
     "output_type": "stream",
     "text": [
      "lasso 모델 K-fold 결과 : 0.048223 \n",
      "lasso 모델 K-fold 결과 : 0.176841 \n",
      "lasso 모델 K-fold 결과 : 0.047405 \n",
      "lasso 모델 K-fold 결과 : 0.175292 \n"
     ]
    },
    {
     "name": "stderr",
     "output_type": "stream",
     "text": [
      "\r",
      " 35%|████████████████████████████▎                                                    | 69/197 [01:01<02:06,  1.02it/s]"
     ]
    },
    {
     "name": "stdout",
     "output_type": "stream",
     "text": [
      "lasso 모델 K-fold 결과 : 0.048254 \n",
      "lasso 모델 K-fold 결과 : 0.177638 \n",
      "lasso 모델 K-fold 결과 : 0.048882 \n",
      "lasso 모델 K-fold 결과 : 0.177245 \n"
     ]
    },
    {
     "name": "stderr",
     "output_type": "stream",
     "text": [
      "\r",
      " 36%|████████████████████████████▊                                                    | 70/197 [01:02<02:06,  1.01it/s]"
     ]
    },
    {
     "name": "stdout",
     "output_type": "stream",
     "text": [
      "lasso 모델 K-fold 결과 : 0.048805 \n",
      "lasso 모델 K-fold 결과 : 0.178955 \n",
      "lasso 모델 K-fold 결과 : 0.047074 \n",
      "lasso 모델 K-fold 결과 : 0.175638 \n"
     ]
    },
    {
     "name": "stderr",
     "output_type": "stream",
     "text": [
      "\r",
      " 36%|█████████████████████████████▏                                                   | 71/197 [01:03<02:05,  1.00it/s]"
     ]
    },
    {
     "name": "stdout",
     "output_type": "stream",
     "text": [
      "lasso 모델 K-fold 결과 : 0.048428 \n",
      "lasso 모델 K-fold 결과 : 0.176868 \n",
      "lasso 모델 K-fold 결과 : 0.047157 \n",
      "lasso 모델 K-fold 결과 : 0.174670 \n"
     ]
    },
    {
     "name": "stderr",
     "output_type": "stream",
     "text": [
      "\r",
      " 37%|█████████████████████████████▌                                                   | 72/197 [01:04<02:04,  1.00it/s]"
     ]
    },
    {
     "name": "stdout",
     "output_type": "stream",
     "text": [
      "lasso 모델 K-fold 결과 : 0.048544 \n",
      "lasso 모델 K-fold 결과 : 0.175876 \n",
      "lasso 모델 K-fold 결과 : 0.048705 \n",
      "lasso 모델 K-fold 결과 : 0.175891 \n"
     ]
    },
    {
     "name": "stderr",
     "output_type": "stream",
     "text": [
      "\r",
      " 37%|██████████████████████████████                                                   | 73/197 [01:05<02:04,  1.00s/it]"
     ]
    },
    {
     "name": "stdout",
     "output_type": "stream",
     "text": [
      "lasso 모델 K-fold 결과 : 0.048248 \n",
      "lasso 모델 K-fold 결과 : 0.175719 \n",
      "lasso 모델 K-fold 결과 : 0.047877 \n",
      "lasso 모델 K-fold 결과 : 0.176204 \n"
     ]
    },
    {
     "name": "stderr",
     "output_type": "stream",
     "text": [
      "\r",
      " 38%|██████████████████████████████▍                                                  | 74/197 [01:06<02:04,  1.01s/it]"
     ]
    },
    {
     "name": "stdout",
     "output_type": "stream",
     "text": [
      "lasso 모델 K-fold 결과 : 0.046374 \n",
      "lasso 모델 K-fold 결과 : 0.174704 \n",
      "lasso 모델 K-fold 결과 : 0.047771 \n",
      "lasso 모델 K-fold 결과 : 0.177823 \n"
     ]
    },
    {
     "name": "stderr",
     "output_type": "stream",
     "text": [
      "\r",
      " 38%|██████████████████████████████▊                                                  | 75/197 [01:07<02:04,  1.02s/it]"
     ]
    },
    {
     "name": "stdout",
     "output_type": "stream",
     "text": [
      "lasso 모델 K-fold 결과 : 0.047343 \n",
      "lasso 모델 K-fold 결과 : 0.173919 \n",
      "lasso 모델 K-fold 결과 : 0.048246 \n",
      "lasso 모델 K-fold 결과 : 0.175879 \n"
     ]
    },
    {
     "name": "stderr",
     "output_type": "stream",
     "text": [
      "\r",
      " 39%|███████████████████████████████▏                                                 | 76/197 [01:08<02:03,  1.02s/it]"
     ]
    },
    {
     "name": "stdout",
     "output_type": "stream",
     "text": [
      "lasso 모델 K-fold 결과 : 0.048149 \n",
      "lasso 모델 K-fold 결과 : 0.177246 \n",
      "lasso 모델 K-fold 결과 : 0.048533 \n",
      "lasso 모델 K-fold 결과 : 0.178488 \n"
     ]
    },
    {
     "name": "stderr",
     "output_type": "stream",
     "text": [
      "\r",
      " 39%|███████████████████████████████▋                                                 | 77/197 [01:09<02:02,  1.02s/it]"
     ]
    },
    {
     "name": "stdout",
     "output_type": "stream",
     "text": [
      "lasso 모델 K-fold 결과 : 0.047230 \n",
      "lasso 모델 K-fold 결과 : 0.174924 \n",
      "lasso 모델 K-fold 결과 : 0.048081 \n",
      "lasso 모델 K-fold 결과 : 0.176665 \n"
     ]
    },
    {
     "name": "stderr",
     "output_type": "stream",
     "text": [
      "\r",
      " 40%|████████████████████████████████                                                 | 78/197 [01:10<02:02,  1.03s/it]"
     ]
    },
    {
     "name": "stdout",
     "output_type": "stream",
     "text": [
      "lasso 모델 K-fold 결과 : 0.045689 \n",
      "lasso 모델 K-fold 결과 : 0.172741 \n",
      "lasso 모델 K-fold 결과 : 0.049512 \n",
      "lasso 모델 K-fold 결과 : 0.178830 \n"
     ]
    },
    {
     "name": "stderr",
     "output_type": "stream",
     "text": [
      "\r",
      " 40%|████████████████████████████████▍                                                | 79/197 [01:11<02:02,  1.04s/it]"
     ]
    },
    {
     "name": "stdout",
     "output_type": "stream",
     "text": [
      "lasso 모델 K-fold 결과 : 0.047891 \n",
      "lasso 모델 K-fold 결과 : 0.177057 \n",
      "lasso 모델 K-fold 결과 : 0.048243 \n",
      "lasso 모델 K-fold 결과 : 0.177995 \n"
     ]
    },
    {
     "name": "stderr",
     "output_type": "stream",
     "text": [
      "\r",
      " 41%|████████████████████████████████▉                                                | 80/197 [01:12<02:03,  1.06s/it]"
     ]
    },
    {
     "name": "stdout",
     "output_type": "stream",
     "text": [
      "lasso 모델 K-fold 결과 : 0.048383 \n",
      "lasso 모델 K-fold 결과 : 0.178444 \n",
      "lasso 모델 K-fold 결과 : 0.046821 \n",
      "lasso 모델 K-fold 결과 : 0.176873 \n"
     ]
    },
    {
     "name": "stderr",
     "output_type": "stream",
     "text": [
      "\r",
      " 41%|█████████████████████████████████▎                                               | 81/197 [01:13<02:02,  1.05s/it]"
     ]
    },
    {
     "name": "stdout",
     "output_type": "stream",
     "text": [
      "lasso 모델 K-fold 결과 : 0.045801 \n",
      "lasso 모델 K-fold 결과 : 0.172892 \n",
      "lasso 모델 K-fold 결과 : 0.049282 \n",
      "lasso 모델 K-fold 결과 : 0.177963 \n"
     ]
    },
    {
     "name": "stderr",
     "output_type": "stream",
     "text": [
      "\r",
      " 42%|█████████████████████████████████▋                                               | 82/197 [01:15<02:01,  1.06s/it]"
     ]
    },
    {
     "name": "stdout",
     "output_type": "stream",
     "text": [
      "lasso 모델 K-fold 결과 : 0.047846 \n",
      "lasso 모델 K-fold 결과 : 0.178707 \n",
      "lasso 모델 K-fold 결과 : 0.049223 \n",
      "lasso 모델 K-fold 결과 : 0.178807 \n"
     ]
    },
    {
     "name": "stderr",
     "output_type": "stream",
     "text": [
      "\r",
      " 42%|██████████████████████████████████▏                                              | 83/197 [01:16<02:02,  1.08s/it]"
     ]
    },
    {
     "name": "stdout",
     "output_type": "stream",
     "text": [
      "lasso 모델 K-fold 결과 : 0.048623 \n",
      "lasso 모델 K-fold 결과 : 0.178946 \n",
      "lasso 모델 K-fold 결과 : 0.047430 \n",
      "lasso 모델 K-fold 결과 : 0.177909 \n"
     ]
    },
    {
     "name": "stderr",
     "output_type": "stream",
     "text": [
      "\r",
      " 43%|██████████████████████████████████▌                                              | 84/197 [01:17<02:03,  1.09s/it]"
     ]
    },
    {
     "name": "stdout",
     "output_type": "stream",
     "text": [
      "lasso 모델 K-fold 결과 : 0.047008 \n",
      "lasso 모델 K-fold 결과 : 0.175421 \n",
      "lasso 모델 K-fold 결과 : 0.046241 \n",
      "lasso 모델 K-fold 결과 : 0.174260 \n"
     ]
    },
    {
     "name": "stderr",
     "output_type": "stream",
     "text": [
      "\r",
      " 43%|██████████████████████████████████▉                                              | 85/197 [01:18<02:02,  1.09s/it]"
     ]
    },
    {
     "name": "stdout",
     "output_type": "stream",
     "text": [
      "lasso 모델 K-fold 결과 : 0.047353 \n",
      "lasso 모델 K-fold 결과 : 0.175405 \n",
      "lasso 모델 K-fold 결과 : 0.046189 \n",
      "lasso 모델 K-fold 결과 : 0.173523 \n"
     ]
    },
    {
     "name": "stderr",
     "output_type": "stream",
     "text": [
      "\r",
      " 44%|███████████████████████████████████▎                                             | 86/197 [01:19<02:01,  1.09s/it]"
     ]
    },
    {
     "name": "stdout",
     "output_type": "stream",
     "text": [
      "lasso 모델 K-fold 결과 : 0.047639 \n",
      "lasso 모델 K-fold 결과 : 0.176110 \n",
      "lasso 모델 K-fold 결과 : 0.046007 \n",
      "lasso 모델 K-fold 결과 : 0.171170 \n"
     ]
    },
    {
     "name": "stderr",
     "output_type": "stream",
     "text": [
      "\r",
      " 44%|███████████████████████████████████▊                                             | 87/197 [01:20<02:00,  1.10s/it]"
     ]
    },
    {
     "name": "stdout",
     "output_type": "stream",
     "text": [
      "lasso 모델 K-fold 결과 : 0.047620 \n",
      "lasso 모델 K-fold 결과 : 0.176616 \n",
      "lasso 모델 K-fold 결과 : 0.047355 \n",
      "lasso 모델 K-fold 결과 : 0.176170 \n"
     ]
    },
    {
     "name": "stderr",
     "output_type": "stream",
     "text": [
      "\r",
      " 45%|████████████████████████████████████▏                                            | 88/197 [01:21<02:00,  1.10s/it]"
     ]
    },
    {
     "name": "stdout",
     "output_type": "stream",
     "text": [
      "lasso 모델 K-fold 결과 : 0.046885 \n",
      "lasso 모델 K-fold 결과 : 0.175726 \n",
      "lasso 모델 K-fold 결과 : 0.045110 \n",
      "lasso 모델 K-fold 결과 : 0.170866 \n"
     ]
    },
    {
     "name": "stderr",
     "output_type": "stream",
     "text": [
      "\r",
      " 45%|████████████████████████████████████▌                                            | 89/197 [01:22<02:00,  1.11s/it]"
     ]
    },
    {
     "name": "stdout",
     "output_type": "stream",
     "text": [
      "lasso 모델 K-fold 결과 : 0.045776 \n",
      "lasso 모델 K-fold 결과 : 0.174171 \n",
      "lasso 모델 K-fold 결과 : 0.049399 \n",
      "lasso 모델 K-fold 결과 : 0.179271 \n"
     ]
    },
    {
     "name": "stderr",
     "output_type": "stream",
     "text": [
      "\r",
      " 46%|█████████████████████████████████████                                            | 90/197 [01:24<02:00,  1.13s/it]"
     ]
    },
    {
     "name": "stdout",
     "output_type": "stream",
     "text": [
      "lasso 모델 K-fold 결과 : 0.047942 \n",
      "lasso 모델 K-fold 결과 : 0.175571 \n",
      "lasso 모델 K-fold 결과 : 0.044540 \n",
      "lasso 모델 K-fold 결과 : 0.168959 \n"
     ]
    },
    {
     "name": "stderr",
     "output_type": "stream",
     "text": [
      "\r",
      " 46%|█████████████████████████████████████▍                                           | 91/197 [01:25<02:02,  1.16s/it]"
     ]
    },
    {
     "name": "stdout",
     "output_type": "stream",
     "text": [
      "lasso 모델 K-fold 결과 : 0.047292 \n",
      "lasso 모델 K-fold 결과 : 0.173559 \n",
      "lasso 모델 K-fold 결과 : 0.048101 \n",
      "lasso 모델 K-fold 결과 : 0.175044 \n"
     ]
    },
    {
     "name": "stderr",
     "output_type": "stream",
     "text": [
      "\r",
      " 47%|█████████████████████████████████████▊                                           | 92/197 [01:26<02:01,  1.16s/it]"
     ]
    },
    {
     "name": "stdout",
     "output_type": "stream",
     "text": [
      "lasso 모델 K-fold 결과 : 0.047975 \n",
      "lasso 모델 K-fold 결과 : 0.178000 \n",
      "lasso 모델 K-fold 결과 : 0.047724 \n",
      "lasso 모델 K-fold 결과 : 0.176456 \n"
     ]
    },
    {
     "name": "stderr",
     "output_type": "stream",
     "text": [
      "\r",
      " 47%|██████████████████████████████████████▏                                          | 93/197 [01:27<02:00,  1.16s/it]"
     ]
    },
    {
     "name": "stdout",
     "output_type": "stream",
     "text": [
      "lasso 모델 K-fold 결과 : 0.047707 \n",
      "lasso 모델 K-fold 결과 : 0.176658 \n",
      "lasso 모델 K-fold 결과 : 0.044857 \n",
      "lasso 모델 K-fold 결과 : 0.170785 \n"
     ]
    },
    {
     "name": "stderr",
     "output_type": "stream",
     "text": [
      "\r",
      " 48%|██████████████████████████████████████▋                                          | 94/197 [01:28<02:00,  1.17s/it]"
     ]
    },
    {
     "name": "stdout",
     "output_type": "stream",
     "text": [
      "lasso 모델 K-fold 결과 : 0.045419 \n",
      "lasso 모델 K-fold 결과 : 0.172130 \n",
      "lasso 모델 K-fold 결과 : 0.047318 \n",
      "lasso 모델 K-fold 결과 : 0.176538 \n"
     ]
    },
    {
     "name": "stderr",
     "output_type": "stream",
     "text": [
      "\r",
      " 48%|███████████████████████████████████████                                          | 95/197 [01:29<01:59,  1.18s/it]"
     ]
    },
    {
     "name": "stdout",
     "output_type": "stream",
     "text": [
      "lasso 모델 K-fold 결과 : 0.047511 \n",
      "lasso 모델 K-fold 결과 : 0.174779 \n",
      "lasso 모델 K-fold 결과 : 0.045187 \n",
      "lasso 모델 K-fold 결과 : 0.172265 \n"
     ]
    },
    {
     "name": "stderr",
     "output_type": "stream",
     "text": [
      "\r",
      " 49%|███████████████████████████████████████▍                                         | 96/197 [01:31<01:59,  1.18s/it]"
     ]
    },
    {
     "name": "stdout",
     "output_type": "stream",
     "text": [
      "lasso 모델 K-fold 결과 : 0.047546 \n",
      "lasso 모델 K-fold 결과 : 0.174094 \n",
      "lasso 모델 K-fold 결과 : 0.046736 \n",
      "lasso 모델 K-fold 결과 : 0.174254 \n"
     ]
    },
    {
     "name": "stderr",
     "output_type": "stream",
     "text": [
      "\r",
      " 49%|███████████████████████████████████████▉                                         | 97/197 [01:32<02:06,  1.26s/it]"
     ]
    },
    {
     "name": "stdout",
     "output_type": "stream",
     "text": [
      "lasso 모델 K-fold 결과 : 0.046318 \n",
      "lasso 모델 K-fold 결과 : 0.171660 \n",
      "lasso 모델 K-fold 결과 : 0.045939 \n",
      "lasso 모델 K-fold 결과 : 0.172777 \n"
     ]
    },
    {
     "name": "stderr",
     "output_type": "stream",
     "text": [
      "\r",
      " 50%|████████████████████████████████████████▎                                        | 98/197 [01:33<02:04,  1.26s/it]"
     ]
    },
    {
     "name": "stdout",
     "output_type": "stream",
     "text": [
      "lasso 모델 K-fold 결과 : 0.048070 \n",
      "lasso 모델 K-fold 결과 : 0.177370 \n",
      "lasso 모델 K-fold 결과 : 0.048191 \n",
      "lasso 모델 K-fold 결과 : 0.176708 \n"
     ]
    },
    {
     "name": "stderr",
     "output_type": "stream",
     "text": [
      "\r",
      " 50%|████████████████████████████████████████▋                                        | 99/197 [01:35<02:03,  1.26s/it]"
     ]
    },
    {
     "name": "stdout",
     "output_type": "stream",
     "text": [
      "lasso 모델 K-fold 결과 : 0.045013 \n",
      "lasso 모델 K-fold 결과 : 0.171015 \n",
      "lasso 모델 K-fold 결과 : 0.046729 \n",
      "lasso 모델 K-fold 결과 : 0.175550 \n"
     ]
    },
    {
     "name": "stderr",
     "output_type": "stream",
     "text": [
      "\r",
      " 51%|████████████████████████████████████████▌                                       | 100/197 [01:36<02:01,  1.25s/it]"
     ]
    },
    {
     "name": "stdout",
     "output_type": "stream",
     "text": [
      "lasso 모델 K-fold 결과 : 0.045840 \n",
      "lasso 모델 K-fold 결과 : 0.172316 \n",
      "lasso 모델 K-fold 결과 : 0.048839 \n",
      "lasso 모델 K-fold 결과 : 0.179550 \n"
     ]
    },
    {
     "name": "stderr",
     "output_type": "stream",
     "text": [
      "\r",
      " 51%|█████████████████████████████████████████                                       | 101/197 [01:37<01:59,  1.25s/it]"
     ]
    },
    {
     "name": "stdout",
     "output_type": "stream",
     "text": [
      "lasso 모델 K-fold 결과 : 0.046113 \n",
      "lasso 모델 K-fold 결과 : 0.174881 \n",
      "lasso 모델 K-fold 결과 : 0.048536 \n",
      "lasso 모델 K-fold 결과 : 0.176071 \n"
     ]
    },
    {
     "name": "stderr",
     "output_type": "stream",
     "text": [
      "\r",
      " 52%|█████████████████████████████████████████▍                                      | 102/197 [01:38<02:00,  1.27s/it]"
     ]
    },
    {
     "name": "stdout",
     "output_type": "stream",
     "text": [
      "lasso 모델 K-fold 결과 : 0.048819 \n",
      "lasso 모델 K-fold 결과 : 0.178587 \n",
      "lasso 모델 K-fold 결과 : 0.047878 \n",
      "lasso 모델 K-fold 결과 : 0.175281 \n"
     ]
    },
    {
     "name": "stderr",
     "output_type": "stream",
     "text": [
      "\r",
      " 52%|█████████████████████████████████████████▊                                      | 103/197 [01:40<02:04,  1.32s/it]"
     ]
    },
    {
     "name": "stdout",
     "output_type": "stream",
     "text": [
      "lasso 모델 K-fold 결과 : 0.047484 \n",
      "lasso 모델 K-fold 결과 : 0.175871 \n",
      "lasso 모델 K-fold 결과 : 0.045902 \n",
      "lasso 모델 K-fold 결과 : 0.173457 \n"
     ]
    },
    {
     "name": "stderr",
     "output_type": "stream",
     "text": [
      "\r",
      " 53%|██████████████████████████████████████████▏                                     | 104/197 [01:41<02:04,  1.34s/it]"
     ]
    },
    {
     "name": "stdout",
     "output_type": "stream",
     "text": [
      "lasso 모델 K-fold 결과 : 0.046234 \n",
      "lasso 모델 K-fold 결과 : 0.171370 \n",
      "lasso 모델 K-fold 결과 : 0.048133 \n",
      "lasso 모델 K-fold 결과 : 0.175597 \n"
     ]
    },
    {
     "name": "stderr",
     "output_type": "stream",
     "text": [
      "\r",
      " 53%|██████████████████████████████████████████▋                                     | 105/197 [01:43<02:02,  1.33s/it]"
     ]
    },
    {
     "name": "stdout",
     "output_type": "stream",
     "text": [
      "lasso 모델 K-fold 결과 : 0.047017 \n",
      "lasso 모델 K-fold 결과 : 0.174903 \n",
      "lasso 모델 K-fold 결과 : 0.048104 \n",
      "lasso 모델 K-fold 결과 : 0.178425 \n"
     ]
    },
    {
     "name": "stderr",
     "output_type": "stream",
     "text": [
      "\r",
      " 54%|███████████████████████████████████████████                                     | 106/197 [01:44<01:58,  1.30s/it]"
     ]
    },
    {
     "name": "stdout",
     "output_type": "stream",
     "text": [
      "lasso 모델 K-fold 결과 : 0.045866 \n",
      "lasso 모델 K-fold 결과 : 0.173000 \n",
      "lasso 모델 K-fold 결과 : 0.049499 \n",
      "lasso 모델 K-fold 결과 : 0.180187 \n"
     ]
    },
    {
     "name": "stderr",
     "output_type": "stream",
     "text": [
      "\r",
      " 54%|███████████████████████████████████████████▍                                    | 107/197 [01:46<02:09,  1.44s/it]"
     ]
    },
    {
     "name": "stdout",
     "output_type": "stream",
     "text": [
      "lasso 모델 K-fold 결과 : 0.043280 \n",
      "lasso 모델 K-fold 결과 : 0.168351 \n",
      "lasso 모델 K-fold 결과 : 0.045744 \n",
      "lasso 모델 K-fold 결과 : 0.172128 \n"
     ]
    },
    {
     "name": "stderr",
     "output_type": "stream",
     "text": [
      "\r",
      " 55%|███████████████████████████████████████████▊                                    | 108/197 [01:48<02:23,  1.61s/it]"
     ]
    },
    {
     "name": "stdout",
     "output_type": "stream",
     "text": [
      "lasso 모델 K-fold 결과 : 0.045159 \n",
      "lasso 모델 K-fold 결과 : 0.172508 \n",
      "lasso 모델 K-fold 결과 : 0.047500 \n",
      "lasso 모델 K-fold 결과 : 0.176743 \n"
     ]
    },
    {
     "name": "stderr",
     "output_type": "stream",
     "text": [
      "\r",
      " 55%|████████████████████████████████████████████▎                                   | 109/197 [01:49<02:14,  1.53s/it]"
     ]
    },
    {
     "name": "stdout",
     "output_type": "stream",
     "text": [
      "lasso 모델 K-fold 결과 : 0.045851 \n",
      "lasso 모델 K-fold 결과 : 0.171803 \n",
      "lasso 모델 K-fold 결과 : 0.045662 \n",
      "lasso 모델 K-fold 결과 : 0.172331 \n"
     ]
    },
    {
     "name": "stderr",
     "output_type": "stream",
     "text": [
      "\r",
      " 56%|████████████████████████████████████████████▋                                   | 110/197 [01:50<02:06,  1.45s/it]"
     ]
    },
    {
     "name": "stdout",
     "output_type": "stream",
     "text": [
      "lasso 모델 K-fold 결과 : 0.043422 \n",
      "lasso 모델 K-fold 결과 : 0.168523 \n",
      "lasso 모델 K-fold 결과 : 0.046071 \n",
      "lasso 모델 K-fold 결과 : 0.172606 \n"
     ]
    },
    {
     "name": "stderr",
     "output_type": "stream",
     "text": [
      "\r",
      " 56%|█████████████████████████████████████████████                                   | 111/197 [01:52<02:02,  1.42s/it]"
     ]
    },
    {
     "name": "stdout",
     "output_type": "stream",
     "text": [
      "lasso 모델 K-fold 결과 : 0.046211 \n",
      "lasso 모델 K-fold 결과 : 0.173393 \n",
      "lasso 모델 K-fold 결과 : 0.046131 \n",
      "lasso 모델 K-fold 결과 : 0.172781 \n"
     ]
    },
    {
     "name": "stderr",
     "output_type": "stream",
     "text": [
      "\r",
      " 57%|█████████████████████████████████████████████▍                                  | 112/197 [01:53<02:01,  1.43s/it]"
     ]
    },
    {
     "name": "stdout",
     "output_type": "stream",
     "text": [
      "lasso 모델 K-fold 결과 : 0.046617 \n",
      "lasso 모델 K-fold 결과 : 0.174449 \n",
      "lasso 모델 K-fold 결과 : 0.046116 \n",
      "lasso 모델 K-fold 결과 : 0.173530 \n"
     ]
    },
    {
     "name": "stderr",
     "output_type": "stream",
     "text": [
      "\r",
      " 57%|█████████████████████████████████████████████▉                                  | 113/197 [01:54<02:01,  1.45s/it]"
     ]
    },
    {
     "name": "stdout",
     "output_type": "stream",
     "text": [
      "lasso 모델 K-fold 결과 : 0.047479 \n",
      "lasso 모델 K-fold 결과 : 0.174525 \n",
      "lasso 모델 K-fold 결과 : 0.049272 \n",
      "lasso 모델 K-fold 결과 : 0.179075 \n"
     ]
    },
    {
     "name": "stderr",
     "output_type": "stream",
     "text": [
      "\r",
      " 58%|██████████████████████████████████████████████▎                                 | 114/197 [01:56<01:59,  1.44s/it]"
     ]
    },
    {
     "name": "stdout",
     "output_type": "stream",
     "text": [
      "lasso 모델 K-fold 결과 : 0.046974 \n",
      "lasso 모델 K-fold 결과 : 0.173393 \n",
      "lasso 모델 K-fold 결과 : 0.044384 \n",
      "lasso 모델 K-fold 결과 : 0.170210 \n"
     ]
    },
    {
     "name": "stderr",
     "output_type": "stream",
     "text": [
      "\r",
      " 58%|██████████████████████████████████████████████▋                                 | 115/197 [01:57<01:55,  1.41s/it]"
     ]
    },
    {
     "name": "stdout",
     "output_type": "stream",
     "text": [
      "lasso 모델 K-fold 결과 : 0.045358 \n",
      "lasso 모델 K-fold 결과 : 0.171416 \n",
      "lasso 모델 K-fold 결과 : 0.046198 \n",
      "lasso 모델 K-fold 결과 : 0.174233 \n"
     ]
    },
    {
     "name": "stderr",
     "output_type": "stream",
     "text": [
      "\r",
      " 59%|███████████████████████████████████████████████                                 | 116/197 [01:59<01:57,  1.45s/it]"
     ]
    },
    {
     "name": "stdout",
     "output_type": "stream",
     "text": [
      "lasso 모델 K-fold 결과 : 0.045766 \n",
      "lasso 모델 K-fold 결과 : 0.171884 \n",
      "lasso 모델 K-fold 결과 : 0.046165 \n",
      "lasso 모델 K-fold 결과 : 0.173421 \n"
     ]
    },
    {
     "name": "stderr",
     "output_type": "stream",
     "text": [
      "\r",
      " 59%|███████████████████████████████████████████████▌                                | 117/197 [02:00<01:51,  1.40s/it]"
     ]
    },
    {
     "name": "stdout",
     "output_type": "stream",
     "text": [
      "lasso 모델 K-fold 결과 : 0.043921 \n",
      "lasso 모델 K-fold 결과 : 0.167640 \n",
      "lasso 모델 K-fold 결과 : 0.045492 \n",
      "lasso 모델 K-fold 결과 : 0.172027 \n"
     ]
    },
    {
     "name": "stderr",
     "output_type": "stream",
     "text": [
      "\r",
      " 60%|███████████████████████████████████████████████▉                                | 118/197 [02:01<01:50,  1.40s/it]"
     ]
    },
    {
     "name": "stdout",
     "output_type": "stream",
     "text": [
      "lasso 모델 K-fold 결과 : 0.044315 \n",
      "lasso 모델 K-fold 결과 : 0.170779 \n",
      "lasso 모델 K-fold 결과 : 0.046580 \n",
      "lasso 모델 K-fold 결과 : 0.174388 \n"
     ]
    },
    {
     "name": "stderr",
     "output_type": "stream",
     "text": [
      "\r",
      " 60%|████████████████████████████████████████████████▎                               | 119/197 [02:03<01:47,  1.38s/it]"
     ]
    },
    {
     "name": "stdout",
     "output_type": "stream",
     "text": [
      "lasso 모델 K-fold 결과 : 0.045341 \n",
      "lasso 모델 K-fold 결과 : 0.172482 \n",
      "lasso 모델 K-fold 결과 : 0.045712 \n",
      "lasso 모델 K-fold 결과 : 0.173159 \n"
     ]
    },
    {
     "name": "stderr",
     "output_type": "stream",
     "text": [
      "\r",
      " 61%|████████████████████████████████████████████████▋                               | 120/197 [02:04<01:45,  1.37s/it]"
     ]
    },
    {
     "name": "stdout",
     "output_type": "stream",
     "text": [
      "lasso 모델 K-fold 결과 : 0.046109 \n",
      "lasso 모델 K-fold 결과 : 0.172546 \n",
      "lasso 모델 K-fold 결과 : 0.045404 \n",
      "lasso 모델 K-fold 결과 : 0.171624 \n"
     ]
    },
    {
     "name": "stderr",
     "output_type": "stream",
     "text": [
      "\r",
      " 61%|█████████████████████████████████████████████████▏                              | 121/197 [02:05<01:43,  1.36s/it]"
     ]
    },
    {
     "name": "stdout",
     "output_type": "stream",
     "text": [
      "lasso 모델 K-fold 결과 : 0.044631 \n",
      "lasso 모델 K-fold 결과 : 0.170082 \n",
      "lasso 모델 K-fold 결과 : 0.045251 \n",
      "lasso 모델 K-fold 결과 : 0.170229 \n"
     ]
    },
    {
     "name": "stderr",
     "output_type": "stream",
     "text": [
      "\r",
      " 62%|█████████████████████████████████████████████████▌                              | 122/197 [02:07<01:45,  1.40s/it]"
     ]
    },
    {
     "name": "stdout",
     "output_type": "stream",
     "text": [
      "lasso 모델 K-fold 결과 : 0.048041 \n",
      "lasso 모델 K-fold 결과 : 0.175845 \n",
      "lasso 모델 K-fold 결과 : 0.044659 \n",
      "lasso 모델 K-fold 결과 : 0.170259 \n"
     ]
    },
    {
     "name": "stderr",
     "output_type": "stream",
     "text": [
      "\r",
      " 62%|█████████████████████████████████████████████████▉                              | 123/197 [02:08<01:42,  1.39s/it]"
     ]
    },
    {
     "name": "stdout",
     "output_type": "stream",
     "text": [
      "lasso 모델 K-fold 결과 : 0.047122 \n",
      "lasso 모델 K-fold 결과 : 0.173910 \n",
      "lasso 모델 K-fold 결과 : 0.047935 \n",
      "lasso 모델 K-fold 결과 : 0.176760 \n"
     ]
    },
    {
     "name": "stderr",
     "output_type": "stream",
     "text": [
      "\r",
      " 63%|██████████████████████████████████████████████████▎                             | 124/197 [02:10<01:41,  1.39s/it]"
     ]
    },
    {
     "name": "stdout",
     "output_type": "stream",
     "text": [
      "lasso 모델 K-fold 결과 : 0.048308 \n",
      "lasso 모델 K-fold 결과 : 0.175778 \n",
      "lasso 모델 K-fold 결과 : 0.046550 \n",
      "lasso 모델 K-fold 결과 : 0.171618 \n"
     ]
    },
    {
     "name": "stderr",
     "output_type": "stream",
     "text": [
      "\r",
      " 63%|██████████████████████████████████████████████████▊                             | 125/197 [02:11<01:39,  1.38s/it]"
     ]
    },
    {
     "name": "stdout",
     "output_type": "stream",
     "text": [
      "lasso 모델 K-fold 결과 : 0.047828 \n",
      "lasso 모델 K-fold 결과 : 0.175964 \n",
      "lasso 모델 K-fold 결과 : 0.048371 \n",
      "lasso 모델 K-fold 결과 : 0.176362 \n"
     ]
    },
    {
     "name": "stderr",
     "output_type": "stream",
     "text": [
      "\r",
      " 64%|███████████████████████████████████████████████████▏                            | 126/197 [02:12<01:37,  1.37s/it]"
     ]
    },
    {
     "name": "stdout",
     "output_type": "stream",
     "text": [
      "lasso 모델 K-fold 결과 : 0.046099 \n",
      "lasso 모델 K-fold 결과 : 0.172585 \n",
      "lasso 모델 K-fold 결과 : 0.047311 \n",
      "lasso 모델 K-fold 결과 : 0.176192 \n"
     ]
    },
    {
     "name": "stderr",
     "output_type": "stream",
     "text": [
      "\r",
      " 64%|███████████████████████████████████████████████████▌                            | 127/197 [02:14<01:35,  1.36s/it]"
     ]
    },
    {
     "name": "stdout",
     "output_type": "stream",
     "text": [
      "lasso 모델 K-fold 결과 : 0.046518 \n",
      "lasso 모델 K-fold 결과 : 0.173231 \n",
      "lasso 모델 K-fold 결과 : 0.048269 \n",
      "lasso 모델 K-fold 결과 : 0.177945 \n"
     ]
    },
    {
     "name": "stderr",
     "output_type": "stream",
     "text": [
      "\r",
      " 65%|███████████████████████████████████████████████████▉                            | 128/197 [02:15<01:34,  1.37s/it]"
     ]
    },
    {
     "name": "stdout",
     "output_type": "stream",
     "text": [
      "lasso 모델 K-fold 결과 : 0.046024 \n",
      "lasso 모델 K-fold 결과 : 0.172084 \n",
      "lasso 모델 K-fold 결과 : 0.045405 \n",
      "lasso 모델 K-fold 결과 : 0.171174 \n"
     ]
    },
    {
     "name": "stderr",
     "output_type": "stream",
     "text": [
      "\r",
      " 65%|████████████████████████████████████████████████████▍                           | 129/197 [02:16<01:33,  1.37s/it]"
     ]
    },
    {
     "name": "stdout",
     "output_type": "stream",
     "text": [
      "lasso 모델 K-fold 결과 : 0.046506 \n",
      "lasso 모델 K-fold 결과 : 0.174046 \n",
      "lasso 모델 K-fold 결과 : 0.046432 \n",
      "lasso 모델 K-fold 결과 : 0.171912 \n"
     ]
    },
    {
     "name": "stderr",
     "output_type": "stream",
     "text": [
      "\r",
      " 66%|████████████████████████████████████████████████████▊                           | 130/197 [02:18<01:32,  1.38s/it]"
     ]
    },
    {
     "name": "stdout",
     "output_type": "stream",
     "text": [
      "lasso 모델 K-fold 결과 : 0.046023 \n",
      "lasso 모델 K-fold 결과 : 0.172595 \n",
      "lasso 모델 K-fold 결과 : 0.047309 \n",
      "lasso 모델 K-fold 결과 : 0.173823 \n"
     ]
    },
    {
     "name": "stderr",
     "output_type": "stream",
     "text": [
      "\r",
      " 66%|█████████████████████████████████████████████████████▏                          | 131/197 [02:19<01:31,  1.39s/it]"
     ]
    },
    {
     "name": "stdout",
     "output_type": "stream",
     "text": [
      "lasso 모델 K-fold 결과 : 0.047945 \n",
      "lasso 모델 K-fold 결과 : 0.176655 \n",
      "lasso 모델 K-fold 결과 : 0.046258 \n",
      "lasso 모델 K-fold 결과 : 0.172414 \n"
     ]
    },
    {
     "name": "stderr",
     "output_type": "stream",
     "text": [
      "\r",
      " 67%|█████████████████████████████████████████████████████▌                          | 132/197 [02:21<01:30,  1.40s/it]"
     ]
    },
    {
     "name": "stdout",
     "output_type": "stream",
     "text": [
      "lasso 모델 K-fold 결과 : 0.046941 \n",
      "lasso 모델 K-fold 결과 : 0.173677 \n",
      "lasso 모델 K-fold 결과 : 0.046406 \n",
      "lasso 모델 K-fold 결과 : 0.172674 \n"
     ]
    },
    {
     "name": "stderr",
     "output_type": "stream",
     "text": [
      "\r",
      " 68%|██████████████████████████████████████████████████████                          | 133/197 [02:22<01:30,  1.42s/it]"
     ]
    },
    {
     "name": "stdout",
     "output_type": "stream",
     "text": [
      "lasso 모델 K-fold 결과 : 0.045946 \n",
      "lasso 모델 K-fold 결과 : 0.173296 \n",
      "lasso 모델 K-fold 결과 : 0.046857 \n",
      "lasso 모델 K-fold 결과 : 0.172228 \n"
     ]
    },
    {
     "name": "stderr",
     "output_type": "stream",
     "text": [
      "\r",
      " 68%|██████████████████████████████████████████████████████▍                         | 134/197 [02:24<01:32,  1.47s/it]"
     ]
    },
    {
     "name": "stdout",
     "output_type": "stream",
     "text": [
      "lasso 모델 K-fold 결과 : 0.046671 \n",
      "lasso 모델 K-fold 결과 : 0.174043 \n",
      "lasso 모델 K-fold 결과 : 0.048392 \n",
      "lasso 모델 K-fold 결과 : 0.174850 \n"
     ]
    },
    {
     "name": "stderr",
     "output_type": "stream",
     "text": [
      "\r",
      " 69%|██████████████████████████████████████████████████████▊                         | 135/197 [02:25<01:32,  1.49s/it]"
     ]
    },
    {
     "name": "stdout",
     "output_type": "stream",
     "text": [
      "lasso 모델 K-fold 결과 : 0.047934 \n",
      "lasso 모델 K-fold 결과 : 0.177141 \n",
      "lasso 모델 K-fold 결과 : 0.046686 \n",
      "lasso 모델 K-fold 결과 : 0.171588 \n"
     ]
    },
    {
     "name": "stderr",
     "output_type": "stream",
     "text": [
      "\r",
      " 69%|███████████████████████████████████████████████████████▏                        | 136/197 [02:27<01:30,  1.48s/it]"
     ]
    },
    {
     "name": "stdout",
     "output_type": "stream",
     "text": [
      "lasso 모델 K-fold 결과 : 0.046606 \n",
      "lasso 모델 K-fold 결과 : 0.174136 \n",
      "lasso 모델 K-fold 결과 : 0.048277 \n",
      "lasso 모델 K-fold 결과 : 0.175780 \n"
     ]
    },
    {
     "name": "stderr",
     "output_type": "stream",
     "text": [
      "\r",
      " 70%|███████████████████████████████████████████████████████▋                        | 137/197 [02:28<01:29,  1.50s/it]"
     ]
    },
    {
     "name": "stdout",
     "output_type": "stream",
     "text": [
      "lasso 모델 K-fold 결과 : 0.048286 \n",
      "lasso 모델 K-fold 결과 : 0.176322 \n",
      "lasso 모델 K-fold 결과 : 0.046556 \n",
      "lasso 모델 K-fold 결과 : 0.172014 \n"
     ]
    },
    {
     "name": "stderr",
     "output_type": "stream",
     "text": [
      "\r",
      " 70%|████████████████████████████████████████████████████████                        | 138/197 [02:30<01:27,  1.49s/it]"
     ]
    },
    {
     "name": "stdout",
     "output_type": "stream",
     "text": [
      "lasso 모델 K-fold 결과 : 0.048328 \n",
      "lasso 모델 K-fold 결과 : 0.176663 \n",
      "lasso 모델 K-fold 결과 : 0.047588 \n",
      "lasso 모델 K-fold 결과 : 0.175258 \n"
     ]
    },
    {
     "name": "stderr",
     "output_type": "stream",
     "text": [
      "\r",
      " 71%|████████████████████████████████████████████████████████▍                       | 139/197 [02:31<01:27,  1.51s/it]"
     ]
    },
    {
     "name": "stdout",
     "output_type": "stream",
     "text": [
      "lasso 모델 K-fold 결과 : 0.048111 \n",
      "lasso 모델 K-fold 결과 : 0.177097 \n",
      "lasso 모델 K-fold 결과 : 0.048349 \n",
      "lasso 모델 K-fold 결과 : 0.179182 \n"
     ]
    },
    {
     "name": "stderr",
     "output_type": "stream",
     "text": [
      "\r",
      " 71%|████████████████████████████████████████████████████████▊                       | 140/197 [02:33<01:25,  1.50s/it]"
     ]
    },
    {
     "name": "stdout",
     "output_type": "stream",
     "text": [
      "lasso 모델 K-fold 결과 : 0.045831 \n",
      "lasso 모델 K-fold 결과 : 0.172828 \n",
      "lasso 모델 K-fold 결과 : 0.048037 \n",
      "lasso 모델 K-fold 결과 : 0.175528 \n"
     ]
    },
    {
     "name": "stderr",
     "output_type": "stream",
     "text": [
      "\r",
      " 72%|█████████████████████████████████████████████████████████▎                      | 141/197 [02:34<01:23,  1.49s/it]"
     ]
    },
    {
     "name": "stdout",
     "output_type": "stream",
     "text": [
      "lasso 모델 K-fold 결과 : 0.047052 \n",
      "lasso 모델 K-fold 결과 : 0.174780 \n",
      "lasso 모델 K-fold 결과 : 0.044933 \n",
      "lasso 모델 K-fold 결과 : 0.169818 \n"
     ]
    },
    {
     "name": "stderr",
     "output_type": "stream",
     "text": [
      "\r",
      " 72%|█████████████████████████████████████████████████████████▋                      | 142/197 [02:36<01:21,  1.48s/it]"
     ]
    },
    {
     "name": "stdout",
     "output_type": "stream",
     "text": [
      "lasso 모델 K-fold 결과 : 0.048726 \n",
      "lasso 모델 K-fold 결과 : 0.176317 \n",
      "lasso 모델 K-fold 결과 : 0.047429 \n",
      "lasso 모델 K-fold 결과 : 0.174008 \n"
     ]
    },
    {
     "name": "stderr",
     "output_type": "stream",
     "text": [
      "\r",
      " 73%|██████████████████████████████████████████████████████████                      | 143/197 [02:38<01:24,  1.57s/it]"
     ]
    },
    {
     "name": "stdout",
     "output_type": "stream",
     "text": [
      "lasso 모델 K-fold 결과 : 0.047977 \n",
      "lasso 모델 K-fold 결과 : 0.176109 \n",
      "lasso 모델 K-fold 결과 : 0.046239 \n",
      "lasso 모델 K-fold 결과 : 0.171316 \n"
     ]
    },
    {
     "name": "stderr",
     "output_type": "stream",
     "text": [
      "\r",
      " 73%|██████████████████████████████████████████████████████████▍                     | 144/197 [02:39<01:23,  1.58s/it]"
     ]
    },
    {
     "name": "stdout",
     "output_type": "stream",
     "text": [
      "lasso 모델 K-fold 결과 : 0.049603 \n",
      "lasso 모델 K-fold 결과 : 0.179213 \n",
      "lasso 모델 K-fold 결과 : 0.047455 \n",
      "lasso 모델 K-fold 결과 : 0.172686 \n"
     ]
    },
    {
     "name": "stderr",
     "output_type": "stream",
     "text": [
      "\r",
      " 74%|██████████████████████████████████████████████████████████▉                     | 145/197 [02:41<01:21,  1.57s/it]"
     ]
    },
    {
     "name": "stdout",
     "output_type": "stream",
     "text": [
      "lasso 모델 K-fold 결과 : 0.046318 \n",
      "lasso 모델 K-fold 결과 : 0.171520 \n",
      "lasso 모델 K-fold 결과 : 0.047403 \n",
      "lasso 모델 K-fold 결과 : 0.175584 \n"
     ]
    },
    {
     "name": "stderr",
     "output_type": "stream",
     "text": [
      "\r",
      " 74%|███████████████████████████████████████████████████████████▎                    | 146/197 [02:42<01:19,  1.57s/it]"
     ]
    },
    {
     "name": "stdout",
     "output_type": "stream",
     "text": [
      "lasso 모델 K-fold 결과 : 0.047850 \n",
      "lasso 모델 K-fold 결과 : 0.175450 \n",
      "lasso 모델 K-fold 결과 : 0.049050 \n",
      "lasso 모델 K-fold 결과 : 0.176537 \n"
     ]
    },
    {
     "name": "stderr",
     "output_type": "stream",
     "text": [
      "\r",
      " 75%|███████████████████████████████████████████████████████████▋                    | 147/197 [02:44<01:18,  1.57s/it]"
     ]
    },
    {
     "name": "stdout",
     "output_type": "stream",
     "text": [
      "lasso 모델 K-fold 결과 : 0.046392 \n",
      "lasso 모델 K-fold 결과 : 0.172949 \n",
      "lasso 모델 K-fold 결과 : 0.047691 \n",
      "lasso 모델 K-fold 결과 : 0.174058 \n"
     ]
    },
    {
     "name": "stderr",
     "output_type": "stream",
     "text": [
      "\r",
      " 75%|████████████████████████████████████████████████████████████                    | 148/197 [02:46<01:19,  1.63s/it]"
     ]
    },
    {
     "name": "stdout",
     "output_type": "stream",
     "text": [
      "lasso 모델 K-fold 결과 : 0.049000 \n",
      "lasso 모델 K-fold 결과 : 0.176740 \n",
      "lasso 모델 K-fold 결과 : 0.048189 \n",
      "lasso 모델 K-fold 결과 : 0.176347 \n"
     ]
    },
    {
     "name": "stderr",
     "output_type": "stream",
     "text": [
      "\r",
      " 76%|████████████████████████████████████████████████████████████▌                   | 149/197 [02:47<01:16,  1.60s/it]"
     ]
    },
    {
     "name": "stdout",
     "output_type": "stream",
     "text": [
      "lasso 모델 K-fold 결과 : 0.047390 \n",
      "lasso 모델 K-fold 결과 : 0.174434 \n",
      "lasso 모델 K-fold 결과 : 0.047908 \n",
      "lasso 모델 K-fold 결과 : 0.176178 \n"
     ]
    },
    {
     "name": "stderr",
     "output_type": "stream",
     "text": [
      "\r",
      " 76%|████████████████████████████████████████████████████████████▉                   | 150/197 [02:49<01:15,  1.60s/it]"
     ]
    },
    {
     "name": "stdout",
     "output_type": "stream",
     "text": [
      "lasso 모델 K-fold 결과 : 0.047732 \n",
      "lasso 모델 K-fold 결과 : 0.173820 \n",
      "lasso 모델 K-fold 결과 : 0.048328 \n",
      "lasso 모델 K-fold 결과 : 0.177082 \n"
     ]
    },
    {
     "name": "stderr",
     "output_type": "stream",
     "text": [
      "\r",
      " 77%|█████████████████████████████████████████████████████████████▎                  | 151/197 [02:50<01:14,  1.62s/it]"
     ]
    },
    {
     "name": "stdout",
     "output_type": "stream",
     "text": [
      "lasso 모델 K-fold 결과 : 0.048300 \n",
      "lasso 모델 K-fold 결과 : 0.176922 \n",
      "lasso 모델 K-fold 결과 : 0.046569 \n",
      "lasso 모델 K-fold 결과 : 0.170956 \n"
     ]
    },
    {
     "name": "stderr",
     "output_type": "stream",
     "text": [
      "\r",
      " 77%|█████████████████████████████████████████████████████████████▋                  | 152/197 [02:52<01:13,  1.63s/it]"
     ]
    },
    {
     "name": "stdout",
     "output_type": "stream",
     "text": [
      "lasso 모델 K-fold 결과 : 0.050532 \n",
      "lasso 모델 K-fold 결과 : 0.180488 \n",
      "lasso 모델 K-fold 결과 : 0.048749 \n",
      "lasso 모델 K-fold 결과 : 0.178129 \n"
     ]
    },
    {
     "name": "stderr",
     "output_type": "stream",
     "text": [
      "\r",
      " 78%|██████████████████████████████████████████████████████████████▏                 | 153/197 [02:54<01:11,  1.62s/it]"
     ]
    },
    {
     "name": "stdout",
     "output_type": "stream",
     "text": [
      "lasso 모델 K-fold 결과 : 0.048016 \n",
      "lasso 모델 K-fold 결과 : 0.175102 \n",
      "lasso 모델 K-fold 결과 : 0.050170 \n",
      "lasso 모델 K-fold 결과 : 0.178750 \n"
     ]
    },
    {
     "name": "stderr",
     "output_type": "stream",
     "text": [
      "\r",
      " 78%|██████████████████████████████████████████████████████████████▌                 | 154/197 [02:55<01:10,  1.63s/it]"
     ]
    },
    {
     "name": "stdout",
     "output_type": "stream",
     "text": [
      "lasso 모델 K-fold 결과 : 0.049653 \n",
      "lasso 모델 K-fold 결과 : 0.180133 \n",
      "lasso 모델 K-fold 결과 : 0.050425 \n",
      "lasso 모델 K-fold 결과 : 0.177845 \n"
     ]
    },
    {
     "name": "stderr",
     "output_type": "stream",
     "text": [
      "\r",
      " 79%|██████████████████████████████████████████████████████████████▉                 | 155/197 [02:57<01:08,  1.63s/it]"
     ]
    },
    {
     "name": "stdout",
     "output_type": "stream",
     "text": [
      "lasso 모델 K-fold 결과 : 0.047914 \n",
      "lasso 모델 K-fold 결과 : 0.173821 \n",
      "lasso 모델 K-fold 결과 : 0.045900 \n",
      "lasso 모델 K-fold 결과 : 0.171704 \n"
     ]
    },
    {
     "name": "stderr",
     "output_type": "stream",
     "text": [
      "\r",
      " 79%|███████████████████████████████████████████████████████████████▎                | 156/197 [02:59<01:06,  1.62s/it]"
     ]
    },
    {
     "name": "stdout",
     "output_type": "stream",
     "text": [
      "lasso 모델 K-fold 결과 : 0.048489 \n",
      "lasso 모델 K-fold 결과 : 0.176860 \n",
      "lasso 모델 K-fold 결과 : 0.051021 \n",
      "lasso 모델 K-fold 결과 : 0.182053 \n"
     ]
    },
    {
     "name": "stderr",
     "output_type": "stream",
     "text": [
      "\r",
      " 80%|███████████████████████████████████████████████████████████████▊                | 157/197 [03:00<01:04,  1.62s/it]"
     ]
    },
    {
     "name": "stdout",
     "output_type": "stream",
     "text": [
      "lasso 모델 K-fold 결과 : 0.049491 \n",
      "lasso 모델 K-fold 결과 : 0.178232 \n",
      "lasso 모델 K-fold 결과 : 0.046645 \n",
      "lasso 모델 K-fold 결과 : 0.172279 \n"
     ]
    },
    {
     "name": "stderr",
     "output_type": "stream",
     "text": [
      "\r",
      " 80%|████████████████████████████████████████████████████████████████▏               | 158/197 [03:02<01:03,  1.62s/it]"
     ]
    },
    {
     "name": "stdout",
     "output_type": "stream",
     "text": [
      "lasso 모델 K-fold 결과 : 0.046835 \n",
      "lasso 모델 K-fold 결과 : 0.172044 \n",
      "lasso 모델 K-fold 결과 : 0.049095 \n",
      "lasso 모델 K-fold 결과 : 0.177353 \n"
     ]
    },
    {
     "name": "stderr",
     "output_type": "stream",
     "text": [
      "\r",
      " 81%|████████████████████████████████████████████████████████████████▌               | 159/197 [03:03<01:01,  1.62s/it]"
     ]
    },
    {
     "name": "stdout",
     "output_type": "stream",
     "text": [
      "lasso 모델 K-fold 결과 : 0.050726 \n",
      "lasso 모델 K-fold 결과 : 0.180003 \n",
      "lasso 모델 K-fold 결과 : 0.048957 \n",
      "lasso 모델 K-fold 결과 : 0.175799 \n"
     ]
    },
    {
     "name": "stderr",
     "output_type": "stream",
     "text": [
      "\r",
      " 81%|████████████████████████████████████████████████████████████████▉               | 160/197 [03:05<01:00,  1.64s/it]"
     ]
    },
    {
     "name": "stdout",
     "output_type": "stream",
     "text": [
      "lasso 모델 K-fold 결과 : 0.051343 \n",
      "lasso 모델 K-fold 결과 : 0.183744 \n",
      "lasso 모델 K-fold 결과 : 0.047780 \n",
      "lasso 모델 K-fold 결과 : 0.175108 \n"
     ]
    },
    {
     "name": "stderr",
     "output_type": "stream",
     "text": [
      "\r",
      " 82%|█████████████████████████████████████████████████████████████████▍              | 161/197 [03:07<00:59,  1.66s/it]"
     ]
    },
    {
     "name": "stdout",
     "output_type": "stream",
     "text": [
      "lasso 모델 K-fold 결과 : 0.049398 \n",
      "lasso 모델 K-fold 결과 : 0.178569 \n",
      "lasso 모델 K-fold 결과 : 0.049977 \n",
      "lasso 모델 K-fold 결과 : 0.177749 \n"
     ]
    },
    {
     "name": "stderr",
     "output_type": "stream",
     "text": [
      "\r",
      " 82%|█████████████████████████████████████████████████████████████████▊              | 162/197 [03:09<01:00,  1.72s/it]"
     ]
    },
    {
     "name": "stdout",
     "output_type": "stream",
     "text": [
      "lasso 모델 K-fold 결과 : 0.050355 \n",
      "lasso 모델 K-fold 결과 : 0.180590 \n",
      "lasso 모델 K-fold 결과 : 0.045955 \n",
      "lasso 모델 K-fold 결과 : 0.169716 \n"
     ]
    },
    {
     "name": "stderr",
     "output_type": "stream",
     "text": [
      "\r",
      " 83%|██████████████████████████████████████████████████████████████████▏             | 163/197 [03:10<00:59,  1.74s/it]"
     ]
    },
    {
     "name": "stdout",
     "output_type": "stream",
     "text": [
      "lasso 모델 K-fold 결과 : 0.048819 \n",
      "lasso 모델 K-fold 결과 : 0.176172 \n",
      "lasso 모델 K-fold 결과 : 0.046402 \n",
      "lasso 모델 K-fold 결과 : 0.171077 \n"
     ]
    },
    {
     "name": "stderr",
     "output_type": "stream",
     "text": [
      "\r",
      " 83%|██████████████████████████████████████████████████████████████████▌             | 164/197 [03:12<00:58,  1.76s/it]"
     ]
    },
    {
     "name": "stdout",
     "output_type": "stream",
     "text": [
      "lasso 모델 K-fold 결과 : 0.048777 \n",
      "lasso 모델 K-fold 결과 : 0.176595 \n",
      "lasso 모델 K-fold 결과 : 0.050374 \n",
      "lasso 모델 K-fold 결과 : 0.182349 \n"
     ]
    },
    {
     "name": "stderr",
     "output_type": "stream",
     "text": [
      "\r",
      " 84%|███████████████████████████████████████████████████████████████████             | 165/197 [03:14<00:56,  1.78s/it]"
     ]
    },
    {
     "name": "stdout",
     "output_type": "stream",
     "text": [
      "lasso 모델 K-fold 결과 : 0.049551 \n",
      "lasso 모델 K-fold 결과 : 0.178179 \n",
      "lasso 모델 K-fold 결과 : 0.050362 \n",
      "lasso 모델 K-fold 결과 : 0.178108 \n"
     ]
    },
    {
     "name": "stderr",
     "output_type": "stream",
     "text": [
      "\r",
      " 84%|███████████████████████████████████████████████████████████████████▍            | 166/197 [03:16<00:55,  1.80s/it]"
     ]
    },
    {
     "name": "stdout",
     "output_type": "stream",
     "text": [
      "lasso 모델 K-fold 결과 : 0.050361 \n",
      "lasso 모델 K-fold 결과 : 0.180495 \n",
      "lasso 모델 K-fold 결과 : 0.048672 \n",
      "lasso 모델 K-fold 결과 : 0.176818 \n"
     ]
    },
    {
     "name": "stderr",
     "output_type": "stream",
     "text": [
      "\r",
      " 85%|███████████████████████████████████████████████████████████████████▊            | 167/197 [03:18<00:53,  1.79s/it]"
     ]
    },
    {
     "name": "stdout",
     "output_type": "stream",
     "text": [
      "lasso 모델 K-fold 결과 : 0.051178 \n",
      "lasso 모델 K-fold 결과 : 0.182825 \n",
      "lasso 모델 K-fold 결과 : 0.052015 \n",
      "lasso 모델 K-fold 결과 : 0.182602 \n"
     ]
    },
    {
     "name": "stderr",
     "output_type": "stream",
     "text": [
      "\r",
      " 85%|████████████████████████████████████████████████████████████████████▏           | 168/197 [03:19<00:51,  1.78s/it]"
     ]
    },
    {
     "name": "stdout",
     "output_type": "stream",
     "text": [
      "lasso 모델 K-fold 결과 : 0.049026 \n",
      "lasso 모델 K-fold 결과 : 0.176729 \n",
      "lasso 모델 K-fold 결과 : 0.051513 \n",
      "lasso 모델 K-fold 결과 : 0.183650 \n"
     ]
    },
    {
     "name": "stderr",
     "output_type": "stream",
     "text": [
      "\r",
      " 86%|████████████████████████████████████████████████████████████████████▋           | 169/197 [03:21<00:50,  1.80s/it]"
     ]
    },
    {
     "name": "stdout",
     "output_type": "stream",
     "text": [
      "lasso 모델 K-fold 결과 : 0.052240 \n",
      "lasso 모델 K-fold 결과 : 0.182569 \n",
      "lasso 모델 K-fold 결과 : 0.051971 \n",
      "lasso 모델 K-fold 결과 : 0.183532 \n"
     ]
    },
    {
     "name": "stderr",
     "output_type": "stream",
     "text": [
      "\r",
      " 86%|█████████████████████████████████████████████████████████████████████           | 170/197 [03:23<00:48,  1.79s/it]"
     ]
    },
    {
     "name": "stdout",
     "output_type": "stream",
     "text": [
      "lasso 모델 K-fold 결과 : 0.051474 \n",
      "lasso 모델 K-fold 결과 : 0.180431 \n",
      "lasso 모델 K-fold 결과 : 0.051172 \n",
      "lasso 모델 K-fold 결과 : 0.181360 \n"
     ]
    },
    {
     "name": "stderr",
     "output_type": "stream",
     "text": [
      "\r",
      " 87%|█████████████████████████████████████████████████████████████████████▍          | 171/197 [03:25<00:46,  1.78s/it]"
     ]
    },
    {
     "name": "stdout",
     "output_type": "stream",
     "text": [
      "lasso 모델 K-fold 결과 : 0.049426 \n",
      "lasso 모델 K-fold 결과 : 0.178081 \n",
      "lasso 모델 K-fold 결과 : 0.050283 \n",
      "lasso 모델 K-fold 결과 : 0.178079 \n"
     ]
    },
    {
     "name": "stderr",
     "output_type": "stream",
     "text": [
      "\r",
      " 87%|█████████████████████████████████████████████████████████████████████▊          | 172/197 [03:27<00:44,  1.79s/it]"
     ]
    },
    {
     "name": "stdout",
     "output_type": "stream",
     "text": [
      "lasso 모델 K-fold 결과 : 0.049880 \n",
      "lasso 모델 K-fold 결과 : 0.177867 \n",
      "lasso 모델 K-fold 결과 : 0.048770 \n",
      "lasso 모델 K-fold 결과 : 0.176203 \n"
     ]
    },
    {
     "name": "stderr",
     "output_type": "stream",
     "text": [
      "\r",
      " 88%|██████████████████████████████████████████████████████████████████████▎         | 173/197 [03:28<00:42,  1.77s/it]"
     ]
    },
    {
     "name": "stdout",
     "output_type": "stream",
     "text": [
      "lasso 모델 K-fold 결과 : 0.047778 \n",
      "lasso 모델 K-fold 결과 : 0.174102 \n",
      "lasso 모델 K-fold 결과 : 0.049454 \n",
      "lasso 모델 K-fold 결과 : 0.177059 \n"
     ]
    },
    {
     "name": "stderr",
     "output_type": "stream",
     "text": [
      "\r",
      " 88%|██████████████████████████████████████████████████████████████████████▋         | 174/197 [03:30<00:40,  1.77s/it]"
     ]
    },
    {
     "name": "stdout",
     "output_type": "stream",
     "text": [
      "lasso 모델 K-fold 결과 : 0.050235 \n",
      "lasso 모델 K-fold 결과 : 0.179837 \n",
      "lasso 모델 K-fold 결과 : 0.050421 \n",
      "lasso 모델 K-fold 결과 : 0.177946 \n"
     ]
    },
    {
     "name": "stderr",
     "output_type": "stream",
     "text": [
      "\r",
      " 89%|███████████████████████████████████████████████████████████████████████         | 175/197 [03:32<00:38,  1.75s/it]"
     ]
    },
    {
     "name": "stdout",
     "output_type": "stream",
     "text": [
      "lasso 모델 K-fold 결과 : 0.051350 \n",
      "lasso 모델 K-fold 결과 : 0.182336 \n",
      "lasso 모델 K-fold 결과 : 0.052488 \n",
      "lasso 모델 K-fold 결과 : 0.183633 \n"
     ]
    },
    {
     "name": "stderr",
     "output_type": "stream",
     "text": [
      "\r",
      " 89%|███████████████████████████████████████████████████████████████████████▍        | 176/197 [03:34<00:36,  1.74s/it]"
     ]
    },
    {
     "name": "stdout",
     "output_type": "stream",
     "text": [
      "lasso 모델 K-fold 결과 : 0.049345 \n",
      "lasso 모델 K-fold 결과 : 0.177772 \n",
      "lasso 모델 K-fold 결과 : 0.049699 \n",
      "lasso 모델 K-fold 결과 : 0.179900 \n"
     ]
    },
    {
     "name": "stderr",
     "output_type": "stream",
     "text": [
      "\r",
      " 90%|███████████████████████████████████████████████████████████████████████▉        | 177/197 [03:35<00:34,  1.73s/it]"
     ]
    },
    {
     "name": "stdout",
     "output_type": "stream",
     "text": [
      "lasso 모델 K-fold 결과 : 0.050258 \n",
      "lasso 모델 K-fold 결과 : 0.178415 \n",
      "lasso 모델 K-fold 결과 : 0.050625 \n",
      "lasso 모델 K-fold 결과 : 0.180052 \n"
     ]
    },
    {
     "name": "stderr",
     "output_type": "stream",
     "text": [
      "\r",
      " 90%|████████████████████████████████████████████████████████████████████████▎       | 178/197 [03:37<00:32,  1.72s/it]"
     ]
    },
    {
     "name": "stdout",
     "output_type": "stream",
     "text": [
      "lasso 모델 K-fold 결과 : 0.048658 \n",
      "lasso 모델 K-fold 결과 : 0.175776 \n",
      "lasso 모델 K-fold 결과 : 0.051639 \n",
      "lasso 모델 K-fold 결과 : 0.181682 \n"
     ]
    },
    {
     "name": "stderr",
     "output_type": "stream",
     "text": [
      "\r",
      " 91%|████████████████████████████████████████████████████████████████████████▋       | 179/197 [03:39<00:31,  1.73s/it]"
     ]
    },
    {
     "name": "stdout",
     "output_type": "stream",
     "text": [
      "lasso 모델 K-fold 결과 : 0.049276 \n",
      "lasso 모델 K-fold 결과 : 0.179102 \n",
      "lasso 모델 K-fold 결과 : 0.050639 \n",
      "lasso 모델 K-fold 결과 : 0.179984 \n"
     ]
    },
    {
     "name": "stderr",
     "output_type": "stream",
     "text": [
      "\r",
      " 91%|█████████████████████████████████████████████████████████████████████████       | 180/197 [03:41<00:30,  1.79s/it]"
     ]
    },
    {
     "name": "stdout",
     "output_type": "stream",
     "text": [
      "lasso 모델 K-fold 결과 : 0.050679 \n",
      "lasso 모델 K-fold 결과 : 0.178321 \n",
      "lasso 모델 K-fold 결과 : 0.050596 \n",
      "lasso 모델 K-fold 결과 : 0.179360 \n"
     ]
    },
    {
     "name": "stderr",
     "output_type": "stream",
     "text": [
      "\r",
      " 92%|█████████████████████████████████████████████████████████████████████████▌      | 181/197 [03:42<00:28,  1.77s/it]"
     ]
    },
    {
     "name": "stdout",
     "output_type": "stream",
     "text": [
      "lasso 모델 K-fold 결과 : 0.050822 \n",
      "lasso 모델 K-fold 결과 : 0.180784 \n",
      "lasso 모델 K-fold 결과 : 0.053678 \n",
      "lasso 모델 K-fold 결과 : 0.185599 \n"
     ]
    },
    {
     "name": "stderr",
     "output_type": "stream",
     "text": [
      "\r",
      " 92%|█████████████████████████████████████████████████████████████████████████▉      | 182/197 [03:44<00:26,  1.77s/it]"
     ]
    },
    {
     "name": "stdout",
     "output_type": "stream",
     "text": [
      "lasso 모델 K-fold 결과 : 0.049000 \n",
      "lasso 모델 K-fold 결과 : 0.178067 \n",
      "lasso 모델 K-fold 결과 : 0.051696 \n",
      "lasso 모델 K-fold 결과 : 0.182863 \n"
     ]
    },
    {
     "name": "stderr",
     "output_type": "stream",
     "text": [
      "\r",
      " 93%|██████████████████████████████████████████████████████████████████████████▎     | 183/197 [03:46<00:24,  1.77s/it]"
     ]
    },
    {
     "name": "stdout",
     "output_type": "stream",
     "text": [
      "lasso 모델 K-fold 결과 : 0.049481 \n",
      "lasso 모델 K-fold 결과 : 0.180062 \n",
      "lasso 모델 K-fold 결과 : 0.052262 \n",
      "lasso 모델 K-fold 결과 : 0.183164 \n"
     ]
    },
    {
     "name": "stderr",
     "output_type": "stream",
     "text": [
      "\r",
      " 93%|██████████████████████████████████████████████████████████████████████████▋     | 184/197 [03:48<00:22,  1.77s/it]"
     ]
    },
    {
     "name": "stdout",
     "output_type": "stream",
     "text": [
      "lasso 모델 K-fold 결과 : 0.050666 \n",
      "lasso 모델 K-fold 결과 : 0.179268 \n",
      "lasso 모델 K-fold 결과 : 0.050806 \n",
      "lasso 모델 K-fold 결과 : 0.180466 \n"
     ]
    },
    {
     "name": "stderr",
     "output_type": "stream",
     "text": [
      "\r",
      " 94%|███████████████████████████████████████████████████████████████████████████▏    | 185/197 [03:49<00:21,  1.76s/it]"
     ]
    },
    {
     "name": "stdout",
     "output_type": "stream",
     "text": [
      "lasso 모델 K-fold 결과 : 0.053110 \n",
      "lasso 모델 K-fold 결과 : 0.183597 \n",
      "lasso 모델 K-fold 결과 : 0.050050 \n",
      "lasso 모델 K-fold 결과 : 0.177720 \n"
     ]
    },
    {
     "name": "stderr",
     "output_type": "stream",
     "text": [
      "\r",
      " 94%|███████████████████████████████████████████████████████████████████████████▌    | 186/197 [03:51<00:19,  1.78s/it]"
     ]
    },
    {
     "name": "stdout",
     "output_type": "stream",
     "text": [
      "lasso 모델 K-fold 결과 : 0.055596 \n",
      "lasso 모델 K-fold 결과 : 0.188200 \n",
      "lasso 모델 K-fold 결과 : 0.054850 \n",
      "lasso 모델 K-fold 결과 : 0.186318 \n"
     ]
    },
    {
     "name": "stderr",
     "output_type": "stream",
     "text": [
      "\r",
      " 95%|███████████████████████████████████████████████████████████████████████████▉    | 187/197 [03:53<00:17,  1.79s/it]"
     ]
    },
    {
     "name": "stdout",
     "output_type": "stream",
     "text": [
      "lasso 모델 K-fold 결과 : 0.050391 \n",
      "lasso 모델 K-fold 결과 : 0.176731 \n",
      "lasso 모델 K-fold 결과 : 0.051251 \n",
      "lasso 모델 K-fold 결과 : 0.180977 \n"
     ]
    },
    {
     "name": "stderr",
     "output_type": "stream",
     "text": [
      "\r",
      " 95%|████████████████████████████████████████████████████████████████████████████▎   | 188/197 [03:55<00:16,  1.79s/it]"
     ]
    },
    {
     "name": "stdout",
     "output_type": "stream",
     "text": [
      "lasso 모델 K-fold 결과 : 0.053699 \n",
      "lasso 모델 K-fold 결과 : 0.184363 \n",
      "lasso 모델 K-fold 결과 : 0.051564 \n",
      "lasso 모델 K-fold 결과 : 0.180883 \n"
     ]
    },
    {
     "name": "stderr",
     "output_type": "stream",
     "text": [
      "\r",
      " 96%|████████████████████████████████████████████████████████████████████████████▊   | 189/197 [03:57<00:14,  1.78s/it]"
     ]
    },
    {
     "name": "stdout",
     "output_type": "stream",
     "text": [
      "lasso 모델 K-fold 결과 : 0.050621 \n",
      "lasso 모델 K-fold 결과 : 0.181611 \n",
      "lasso 모델 K-fold 결과 : 0.053541 \n",
      "lasso 모델 K-fold 결과 : 0.184514 \n"
     ]
    },
    {
     "name": "stderr",
     "output_type": "stream",
     "text": [
      "\r",
      " 96%|█████████████████████████████████████████████████████████████████████████████▏  | 190/197 [03:58<00:12,  1.79s/it]"
     ]
    },
    {
     "name": "stdout",
     "output_type": "stream",
     "text": [
      "lasso 모델 K-fold 결과 : 0.050439 \n",
      "lasso 모델 K-fold 결과 : 0.179082 \n",
      "lasso 모델 K-fold 결과 : 0.052398 \n",
      "lasso 모델 K-fold 결과 : 0.181841 \n"
     ]
    },
    {
     "name": "stderr",
     "output_type": "stream",
     "text": [
      "\r",
      " 97%|█████████████████████████████████████████████████████████████████████████████▌  | 191/197 [04:00<00:10,  1.79s/it]"
     ]
    },
    {
     "name": "stdout",
     "output_type": "stream",
     "text": [
      "lasso 모델 K-fold 결과 : 0.054646 \n",
      "lasso 모델 K-fold 결과 : 0.187396 \n",
      "lasso 모델 K-fold 결과 : 0.050888 \n",
      "lasso 모델 K-fold 결과 : 0.183507 \n"
     ]
    },
    {
     "name": "stderr",
     "output_type": "stream",
     "text": [
      "\r",
      " 97%|█████████████████████████████████████████████████████████████████████████████▉  | 192/197 [04:02<00:08,  1.79s/it]"
     ]
    },
    {
     "name": "stdout",
     "output_type": "stream",
     "text": [
      "lasso 모델 K-fold 결과 : 0.052773 \n",
      "lasso 모델 K-fold 결과 : 0.182083 \n",
      "lasso 모델 K-fold 결과 : 0.049972 \n",
      "lasso 모델 K-fold 결과 : 0.179012 \n"
     ]
    },
    {
     "name": "stderr",
     "output_type": "stream",
     "text": [
      "\r",
      " 98%|██████████████████████████████████████████████████████████████████████████████▍ | 193/197 [04:04<00:07,  1.79s/it]"
     ]
    },
    {
     "name": "stdout",
     "output_type": "stream",
     "text": [
      "lasso 모델 K-fold 결과 : 0.052332 \n",
      "lasso 모델 K-fold 결과 : 0.186565 \n",
      "lasso 모델 K-fold 결과 : 0.050252 \n",
      "lasso 모델 K-fold 결과 : 0.180109 \n"
     ]
    },
    {
     "name": "stderr",
     "output_type": "stream",
     "text": [
      "\r",
      " 98%|██████████████████████████████████████████████████████████████████████████████▊ | 194/197 [04:06<00:05,  1.80s/it]"
     ]
    },
    {
     "name": "stdout",
     "output_type": "stream",
     "text": [
      "lasso 모델 K-fold 결과 : 0.051076 \n",
      "lasso 모델 K-fold 결과 : 0.181974 \n",
      "lasso 모델 K-fold 결과 : 0.053462 \n",
      "lasso 모델 K-fold 결과 : 0.184735 \n"
     ]
    },
    {
     "name": "stderr",
     "output_type": "stream",
     "text": [
      "\r",
      " 99%|███████████████████████████████████████████████████████████████████████████████▏| 195/197 [04:07<00:03,  1.81s/it]"
     ]
    },
    {
     "name": "stdout",
     "output_type": "stream",
     "text": [
      "lasso 모델 K-fold 결과 : 0.050939 \n",
      "lasso 모델 K-fold 결과 : 0.179602 \n",
      "lasso 모델 K-fold 결과 : 0.052015 \n",
      "lasso 모델 K-fold 결과 : 0.182310 \n"
     ]
    },
    {
     "name": "stderr",
     "output_type": "stream",
     "text": [
      "\r",
      " 99%|███████████████████████████████████████████████████████████████████████████████▌| 196/197 [04:09<00:01,  1.81s/it]"
     ]
    },
    {
     "name": "stdout",
     "output_type": "stream",
     "text": [
      "lasso 모델 K-fold 결과 : 0.050419 \n",
      "lasso 모델 K-fold 결과 : 0.180619 \n",
      "lasso 모델 K-fold 결과 : 0.050653 \n",
      "lasso 모델 K-fold 결과 : 0.178767 \n"
     ]
    },
    {
     "name": "stderr",
     "output_type": "stream",
     "text": [
      "100%|████████████████████████████████████████████████████████████████████████████████| 197/197 [04:11<00:00,  1.28s/it]"
     ]
    },
    {
     "name": "stdout",
     "output_type": "stream",
     "text": [
      "lasso 모델 K-fold 결과 : 0.048019 \n",
      "lasso 모델 K-fold 결과 : 0.172354 \n"
     ]
    },
    {
     "name": "stderr",
     "output_type": "stream",
     "text": [
      "\n"
     ]
    }
   ],
   "source": [
    "from sklearn.decomposition import PCA\n",
    "from tqdm import tqdm\n",
    "score_per_compo =[]\n",
    "for num_compo in tqdm(range(3,200)):\n",
    "    pca_score = []\n",
    "    for i in range(2):\n",
    "        pca = PCA(n_components=num_compo)\n",
    "        tem = pca.fit_transform(total_df)\n",
    "\n",
    "        pca_df = pd.DataFrame(tem)\n",
    "        score = k_fold(pca_df,\"lasso\",0.2)\n",
    "        pca_score.append(score)\n",
    "    score_per_compo.append(pca_score)"
   ]
  },
  {
   "cell_type": "code",
   "execution_count": 375,
   "metadata": {},
   "outputs": [
    {
     "name": "stderr",
     "output_type": "stream",
     "text": [
      "No handles with labels found to put in legend.\n"
     ]
    },
    {
     "data": {
      "image/png": "[encoded data removed]",
      "text/plain": [
       "<Figure size 432x288 with 1 Axes>"
      ]
     },
     "metadata": {
      "needs_background": "light"
     },
     "output_type": "display_data"
    }
   ],
   "source": [
    "#몇 pca components 수 확인하기 \n",
    "#50 정도가 적당했다\n",
    "from matplotlib import pyplot as plt\n",
    "x = np.arange(3,200)\n",
    "y = np.mean(score_per_compo,axis = 1)\n",
    "plt.plot(x,y)\n",
    "plt.xlabel(\"number of components\")\n",
    "plt.ylabel(\"MSE\")\n",
    "plt.legend()\n",
    "plt.show()"
   ]
  },
  {
   "cell_type": "code",
   "execution_count": 377,
   "metadata": {},
   "outputs": [
    {
     "data": {
      "text/plain": [
       "0.04327961964627756"
      ]
     },
     "execution_count": 377,
     "metadata": {},
     "output_type": "execute_result"
    }
   ],
   "source": [
    "np.min(score_per_compo)"
   ]
  },
  {
   "cell_type": "code",
   "execution_count": 51,
   "metadata": {},
   "outputs": [
    {
     "name": "stdout",
     "output_type": "stream",
     "text": [
      "lasso 모델 K-fold 결과 : 0.075953 \n",
      "lasso 모델 K-fold 결과 : 0.217193 \n",
      "lasso 모델 K-fold 결과 : 0.075904 \n",
      "lasso 모델 K-fold 결과 : 0.217101 \n"
     ]
    },
    {
     "data": {
      "text/plain": [
       "0.07592853006399038"
      ]
     },
     "execution_count": 51,
     "metadata": {},
     "output_type": "execute_result"
    }
   ],
   "source": [
    "pca_score = []\n",
    "for i in range(2):\n",
    "    pca = PCA(n_components=60)\n",
    "    tem = pca.fit_transform(total_df)\n",
    "\n",
    "    pca_df = pd.DataFrame(tem)\n",
    "    score = k_fold(pca_df,\"lasso\",0.25)\n",
    "    pca_score.append(score)\n",
    "np.mean(pca_score)"
   ]
  },
  {
   "cell_type": "markdown",
   "metadata": {},
   "source": [
    "# Finalilze Model"
   ]
  },
  {
   "cell_type": "markdown",
   "metadata": {},
   "source": [
    "# 리그레션"
   ]
  },
  {
   "cell_type": "code",
   "execution_count": 18,
   "metadata": {},
   "outputs": [],
   "source": [
    "t_data_div_100 = pd.read_csv(\"t_div_100.csv\")\n",
    "t_hands_on  = pd.read_csv(\"t_hands_w6.csv\")\n",
    "t_basic = pd.read_csv(\"t_basic.csv\")\n"
   ]
  },
  {
   "cell_type": "code",
   "execution_count": 19,
   "metadata": {},
   "outputs": [
    {
     "data": {
      "text/plain": [
       "(101, 13360)"
      ]
     },
     "execution_count": 19,
     "metadata": {},
     "output_type": "execute_result"
    }
   ],
   "source": [
    "t_total =  pd.concat([t_basic,t_hands_on],axis = 1)\n",
    "t_total.shape"
   ]
  },
  {
   "cell_type": "code",
   "execution_count": 21,
   "metadata": {},
   "outputs": [
    {
     "data": {
      "text/plain": [
       "(404, 13360)"
      ]
     },
     "execution_count": 21,
     "metadata": {},
     "output_type": "execute_result"
    }
   ],
   "source": [
    "total = pd.concat([basic,hands_on],axis = 1)\n",
    "total.shape"
   ]
  },
  {
   "cell_type": "code",
   "execution_count": 22,
   "metadata": {},
   "outputs": [],
   "source": [
    "pca = PCA(n_components=50)\n",
    "total = pca.fit_transform(total)\n",
    "t_total = pca.transform(t_total)\n",
    "\n",
    "train_total = pd.DataFrame(total)\n",
    "test_total = pd.DataFrame(t_total)"
   ]
  },
  {
   "cell_type": "code",
   "execution_count": 23,
   "metadata": {},
   "outputs": [],
   "source": [
    "model_use = LinearRegression(fit_intercept=True, normalize=True, n_jobs=None) \n",
    "model_use.fit(train_total, data_y)\n",
    "valid_pred = model_use.predict(test_total)"
   ]
  },
  {
   "cell_type": "code",
   "execution_count": 24,
   "metadata": {},
   "outputs": [],
   "source": [
    "valid_pred = pd.DataFrame(valid_pred,columns =['lr'])\n",
    "valid_pred.to_csv(\"lr_pred.csv\",index =False)"
   ]
  },
  {
   "cell_type": "code",
   "execution_count": 25,
   "metadata": {},
   "outputs": [
    {
     "data": {
      "text/html": [
       "<div>\n",
       "<style scoped>\n",
       "    .dataframe tbody tr th:only-of-type {\n",
       "        vertical-align: middle;\n",
       "    }\n",
       "\n",
       "    .dataframe tbody tr th {\n",
       "        vertical-align: top;\n",
       "    }\n",
       "\n",
       "    .dataframe thead th {\n",
       "        text-align: right;\n",
       "    }\n",
       "</style>\n",
       "<table border=\"1\" class=\"dataframe\">\n",
       "  <thead>\n",
       "    <tr style=\"text-align: right;\">\n",
       "      <th></th>\n",
       "      <th>lr</th>\n",
       "    </tr>\n",
       "  </thead>\n",
       "  <tbody>\n",
       "    <tr>\n",
       "      <th>0</th>\n",
       "      <td>35.047684</td>\n",
       "    </tr>\n",
       "    <tr>\n",
       "      <th>1</th>\n",
       "      <td>35.005884</td>\n",
       "    </tr>\n",
       "    <tr>\n",
       "      <th>2</th>\n",
       "      <td>34.809860</td>\n",
       "    </tr>\n",
       "    <tr>\n",
       "      <th>3</th>\n",
       "      <td>35.002044</td>\n",
       "    </tr>\n",
       "    <tr>\n",
       "      <th>4</th>\n",
       "      <td>34.906205</td>\n",
       "    </tr>\n",
       "    <tr>\n",
       "      <th>...</th>\n",
       "      <td>...</td>\n",
       "    </tr>\n",
       "    <tr>\n",
       "      <th>96</th>\n",
       "      <td>34.901192</td>\n",
       "    </tr>\n",
       "    <tr>\n",
       "      <th>97</th>\n",
       "      <td>34.909766</td>\n",
       "    </tr>\n",
       "    <tr>\n",
       "      <th>98</th>\n",
       "      <td>34.965787</td>\n",
       "    </tr>\n",
       "    <tr>\n",
       "      <th>99</th>\n",
       "      <td>34.774998</td>\n",
       "    </tr>\n",
       "    <tr>\n",
       "      <th>100</th>\n",
       "      <td>34.909328</td>\n",
       "    </tr>\n",
       "  </tbody>\n",
       "</table>\n",
       "<p>101 rows × 1 columns</p>\n",
       "</div>"
      ],
      "text/plain": [
       "            lr\n",
       "0    35.047684\n",
       "1    35.005884\n",
       "2    34.809860\n",
       "3    35.002044\n",
       "4    34.906205\n",
       "..         ...\n",
       "96   34.901192\n",
       "97   34.909766\n",
       "98   34.965787\n",
       "99   34.774998\n",
       "100  34.909328\n",
       "\n",
       "[101 rows x 1 columns]"
      ]
     },
     "execution_count": 25,
     "metadata": {},
     "output_type": "execute_result"
    }
   ],
   "source": [
    "valid_pred"
   ]
  },
  {
   "cell_type": "markdown",
   "metadata": {},
   "source": [
    "# 라쏘"
   ]
  },
  {
   "cell_type": "code",
   "execution_count": 34,
   "metadata": {},
   "outputs": [
    {
     "name": "stdout",
     "output_type": "stream",
     "text": [
      "(101, 13360)\n",
      "(404, 13360)\n"
     ]
    }
   ],
   "source": [
    "t_total =  pd.concat([t_basic,t_hands_on],axis = 1)\n",
    "print(t_total.shape)\n",
    "\n",
    "total = pd.concat([basic,hands_on],axis = 1)\n",
    "print(total.shape)"
   ]
  },
  {
   "cell_type": "code",
   "execution_count": 35,
   "metadata": {},
   "outputs": [],
   "source": [
    "pca = PCA(n_components=65)\n",
    "total = pca.fit_transform(total)\n",
    "t_total = pca.transform(t_total)\n",
    "\n",
    "train_total = pd.DataFrame(total)\n",
    "test_total = pd.DataFrame(t_total)"
   ]
  },
  {
   "cell_type": "code",
   "execution_count": 36,
   "metadata": {},
   "outputs": [],
   "source": [
    "model_use = Lasso(alpha=0.25)\n",
    "model_use.fit(train_total, data_y)\n",
    "valid_pred = model_use.predict(test_total)"
   ]
  },
  {
   "cell_type": "code",
   "execution_count": 37,
   "metadata": {},
   "outputs": [],
   "source": [
    "valid_pred = pd.DataFrame(valid_pred,columns =['lasso'])\n",
    "valid_pred.to_csv(\"lasso_pred.csv\",index =False)"
   ]
  },
  {
   "cell_type": "code",
   "execution_count": 38,
   "metadata": {},
   "outputs": [
    {
     "data": {
      "text/html": [
       "<div>\n",
       "<style scoped>\n",
       "    .dataframe tbody tr th:only-of-type {\n",
       "        vertical-align: middle;\n",
       "    }\n",
       "\n",
       "    .dataframe tbody tr th {\n",
       "        vertical-align: top;\n",
       "    }\n",
       "\n",
       "    .dataframe thead th {\n",
       "        text-align: right;\n",
       "    }\n",
       "</style>\n",
       "<table border=\"1\" class=\"dataframe\">\n",
       "  <thead>\n",
       "    <tr style=\"text-align: right;\">\n",
       "      <th></th>\n",
       "      <th>lasso</th>\n",
       "    </tr>\n",
       "  </thead>\n",
       "  <tbody>\n",
       "    <tr>\n",
       "      <th>0</th>\n",
       "      <td>35.057169</td>\n",
       "    </tr>\n",
       "    <tr>\n",
       "      <th>1</th>\n",
       "      <td>35.013995</td>\n",
       "    </tr>\n",
       "    <tr>\n",
       "      <th>2</th>\n",
       "      <td>34.789726</td>\n",
       "    </tr>\n",
       "    <tr>\n",
       "      <th>3</th>\n",
       "      <td>34.983979</td>\n",
       "    </tr>\n",
       "    <tr>\n",
       "      <th>4</th>\n",
       "      <td>34.874057</td>\n",
       "    </tr>\n",
       "    <tr>\n",
       "      <th>...</th>\n",
       "      <td>...</td>\n",
       "    </tr>\n",
       "    <tr>\n",
       "      <th>96</th>\n",
       "      <td>34.865799</td>\n",
       "    </tr>\n",
       "    <tr>\n",
       "      <th>97</th>\n",
       "      <td>34.921845</td>\n",
       "    </tr>\n",
       "    <tr>\n",
       "      <th>98</th>\n",
       "      <td>34.932864</td>\n",
       "    </tr>\n",
       "    <tr>\n",
       "      <th>99</th>\n",
       "      <td>34.753671</td>\n",
       "    </tr>\n",
       "    <tr>\n",
       "      <th>100</th>\n",
       "      <td>34.943174</td>\n",
       "    </tr>\n",
       "  </tbody>\n",
       "</table>\n",
       "<p>101 rows × 1 columns</p>\n",
       "</div>"
      ],
      "text/plain": [
       "         lasso\n",
       "0    35.057169\n",
       "1    35.013995\n",
       "2    34.789726\n",
       "3    34.983979\n",
       "4    34.874057\n",
       "..         ...\n",
       "96   34.865799\n",
       "97   34.921845\n",
       "98   34.932864\n",
       "99   34.753671\n",
       "100  34.943174\n",
       "\n",
       "[101 rows x 1 columns]"
      ]
     },
     "execution_count": 38,
     "metadata": {},
     "output_type": "execute_result"
    }
   ],
   "source": [
    "valid_pred"
   ]
  },
  {
   "cell_type": "markdown",
   "metadata": {},
   "source": [
    "# 리지"
   ]
  },
  {
   "cell_type": "markdown",
   "metadata": {},
   "source": [
    "div_10 = pd.read_csv(\"data_div_10_len5.csv\")\n",
    "t_div_10 = pd.read_csv(\"t_div_10.csv\")\n"
   ]
  },
  {
   "cell_type": "code",
   "execution_count": 65,
   "metadata": {},
   "outputs": [
    {
     "name": "stdout",
     "output_type": "stream",
     "text": [
      "(101, 13360)\n",
      "(404, 13360)\n"
     ]
    }
   ],
   "source": [
    "t_total =  pd.concat([t_basic,t_hands_on],axis = 1)\n",
    "print(t_total.shape)\n",
    "\n",
    "total = pd.concat([basic,hands_on],axis = 1)\n",
    "print(total.shape)"
   ]
  },
  {
   "cell_type": "code",
   "execution_count": 66,
   "metadata": {},
   "outputs": [],
   "source": [
    "pca = PCA(n_components=65)\n",
    "total = pca.fit_transform(total)\n",
    "t_total = pca.transform(t_total)\n",
    "\n",
    "train_total = pd.DataFrame(total)\n",
    "test_total = pd.DataFrame(t_total)"
   ]
  },
  {
   "cell_type": "code",
   "execution_count": 67,
   "metadata": {},
   "outputs": [],
   "source": [
    "model_use = Ridge(alpha=1)\n",
    "model_use.fit(train_total, data_y)\n",
    "valid_pred = model_use.predict(test_total)"
   ]
  },
  {
   "cell_type": "code",
   "execution_count": null,
   "metadata": {},
   "outputs": [],
   "source": []
  },
  {
   "cell_type": "code",
   "execution_count": 68,
   "metadata": {},
   "outputs": [],
   "source": [
    "valid_pred = pd.DataFrame(valid_pred,columns =['ridge'])\n",
    "valid_pred.to_csv(\"ridge_pred.csv\",index =False)"
   ]
  },
  {
   "cell_type": "code",
   "execution_count": 69,
   "metadata": {},
   "outputs": [
    {
     "data": {
      "text/html": [
       "<div>\n",
       "<style scoped>\n",
       "    .dataframe tbody tr th:only-of-type {\n",
       "        vertical-align: middle;\n",
       "    }\n",
       "\n",
       "    .dataframe tbody tr th {\n",
       "        vertical-align: top;\n",
       "    }\n",
       "\n",
       "    .dataframe thead th {\n",
       "        text-align: right;\n",
       "    }\n",
       "</style>\n",
       "<table border=\"1\" class=\"dataframe\">\n",
       "  <thead>\n",
       "    <tr style=\"text-align: right;\">\n",
       "      <th></th>\n",
       "      <th>ridge</th>\n",
       "    </tr>\n",
       "  </thead>\n",
       "  <tbody>\n",
       "    <tr>\n",
       "      <th>0</th>\n",
       "      <td>35.060643</td>\n",
       "    </tr>\n",
       "    <tr>\n",
       "      <th>1</th>\n",
       "      <td>35.011198</td>\n",
       "    </tr>\n",
       "    <tr>\n",
       "      <th>2</th>\n",
       "      <td>34.781805</td>\n",
       "    </tr>\n",
       "    <tr>\n",
       "      <th>3</th>\n",
       "      <td>34.954464</td>\n",
       "    </tr>\n",
       "    <tr>\n",
       "      <th>4</th>\n",
       "      <td>34.869832</td>\n",
       "    </tr>\n",
       "    <tr>\n",
       "      <th>...</th>\n",
       "      <td>...</td>\n",
       "    </tr>\n",
       "    <tr>\n",
       "      <th>96</th>\n",
       "      <td>34.894494</td>\n",
       "    </tr>\n",
       "    <tr>\n",
       "      <th>97</th>\n",
       "      <td>34.866103</td>\n",
       "    </tr>\n",
       "    <tr>\n",
       "      <th>98</th>\n",
       "      <td>34.937303</td>\n",
       "    </tr>\n",
       "    <tr>\n",
       "      <th>99</th>\n",
       "      <td>34.763904</td>\n",
       "    </tr>\n",
       "    <tr>\n",
       "      <th>100</th>\n",
       "      <td>34.933306</td>\n",
       "    </tr>\n",
       "  </tbody>\n",
       "</table>\n",
       "<p>101 rows × 1 columns</p>\n",
       "</div>"
      ],
      "text/plain": [
       "         ridge\n",
       "0    35.060643\n",
       "1    35.011198\n",
       "2    34.781805\n",
       "3    34.954464\n",
       "4    34.869832\n",
       "..         ...\n",
       "96   34.894494\n",
       "97   34.866103\n",
       "98   34.937303\n",
       "99   34.763904\n",
       "100  34.933306\n",
       "\n",
       "[101 rows x 1 columns]"
      ]
     },
     "execution_count": 69,
     "metadata": {},
     "output_type": "execute_result"
    }
   ],
   "source": [
    "valid_pred"
   ]
  },
  {
   "cell_type": "markdown",
   "metadata": {},
   "source": [
    " # SUBMISSON"
   ]
  },
  {
   "cell_type": "code",
   "execution_count": 70,
   "metadata": {},
   "outputs": [],
   "source": [
    "lr = pd.read_csv(\"lr_pred.csv\")\n",
    "lasso = pd.read_csv(\"lasso_pred.csv\")\n",
    "ridge = pd.read_csv(\"ridge_pred.csv\")"
   ]
  },
  {
   "cell_type": "code",
   "execution_count": 71,
   "metadata": {},
   "outputs": [],
   "source": [
    "ans = pd.concat([lr,lasso,ridge],axis = 1)"
   ]
  },
  {
   "cell_type": "code",
   "execution_count": 72,
   "metadata": {},
   "outputs": [
    {
     "data": {
      "text/html": [
       "<div>\n",
       "<style scoped>\n",
       "    .dataframe tbody tr th:only-of-type {\n",
       "        vertical-align: middle;\n",
       "    }\n",
       "\n",
       "    .dataframe tbody tr th {\n",
       "        vertical-align: top;\n",
       "    }\n",
       "\n",
       "    .dataframe thead th {\n",
       "        text-align: right;\n",
       "    }\n",
       "</style>\n",
       "<table border=\"1\" class=\"dataframe\">\n",
       "  <thead>\n",
       "    <tr style=\"text-align: right;\">\n",
       "      <th></th>\n",
       "      <th>lr</th>\n",
       "      <th>lasso</th>\n",
       "      <th>ridge</th>\n",
       "    </tr>\n",
       "  </thead>\n",
       "  <tbody>\n",
       "    <tr>\n",
       "      <th>0</th>\n",
       "      <td>35.047684</td>\n",
       "      <td>35.057169</td>\n",
       "      <td>35.060643</td>\n",
       "    </tr>\n",
       "    <tr>\n",
       "      <th>1</th>\n",
       "      <td>35.005884</td>\n",
       "      <td>35.013995</td>\n",
       "      <td>35.011198</td>\n",
       "    </tr>\n",
       "    <tr>\n",
       "      <th>2</th>\n",
       "      <td>34.809860</td>\n",
       "      <td>34.789726</td>\n",
       "      <td>34.781805</td>\n",
       "    </tr>\n",
       "    <tr>\n",
       "      <th>3</th>\n",
       "      <td>35.002044</td>\n",
       "      <td>34.983979</td>\n",
       "      <td>34.954464</td>\n",
       "    </tr>\n",
       "    <tr>\n",
       "      <th>4</th>\n",
       "      <td>34.906205</td>\n",
       "      <td>34.874057</td>\n",
       "      <td>34.869832</td>\n",
       "    </tr>\n",
       "    <tr>\n",
       "      <th>5</th>\n",
       "      <td>34.664835</td>\n",
       "      <td>34.668946</td>\n",
       "      <td>34.676653</td>\n",
       "    </tr>\n",
       "    <tr>\n",
       "      <th>6</th>\n",
       "      <td>35.032052</td>\n",
       "      <td>35.021703</td>\n",
       "      <td>35.078776</td>\n",
       "    </tr>\n",
       "    <tr>\n",
       "      <th>7</th>\n",
       "      <td>34.946639</td>\n",
       "      <td>34.952433</td>\n",
       "      <td>34.978244</td>\n",
       "    </tr>\n",
       "    <tr>\n",
       "      <th>8</th>\n",
       "      <td>35.214571</td>\n",
       "      <td>35.242153</td>\n",
       "      <td>35.233490</td>\n",
       "    </tr>\n",
       "    <tr>\n",
       "      <th>9</th>\n",
       "      <td>35.160298</td>\n",
       "      <td>35.149699</td>\n",
       "      <td>35.174972</td>\n",
       "    </tr>\n",
       "    <tr>\n",
       "      <th>10</th>\n",
       "      <td>35.191745</td>\n",
       "      <td>35.181682</td>\n",
       "      <td>35.227541</td>\n",
       "    </tr>\n",
       "    <tr>\n",
       "      <th>11</th>\n",
       "      <td>34.968115</td>\n",
       "      <td>34.961409</td>\n",
       "      <td>34.963949</td>\n",
       "    </tr>\n",
       "    <tr>\n",
       "      <th>12</th>\n",
       "      <td>34.514958</td>\n",
       "      <td>34.524033</td>\n",
       "      <td>34.498628</td>\n",
       "    </tr>\n",
       "    <tr>\n",
       "      <th>13</th>\n",
       "      <td>34.544780</td>\n",
       "      <td>34.560426</td>\n",
       "      <td>34.583799</td>\n",
       "    </tr>\n",
       "    <tr>\n",
       "      <th>14</th>\n",
       "      <td>34.770063</td>\n",
       "      <td>34.739000</td>\n",
       "      <td>34.765388</td>\n",
       "    </tr>\n",
       "    <tr>\n",
       "      <th>15</th>\n",
       "      <td>34.581708</td>\n",
       "      <td>34.599103</td>\n",
       "      <td>34.606742</td>\n",
       "    </tr>\n",
       "    <tr>\n",
       "      <th>16</th>\n",
       "      <td>34.947037</td>\n",
       "      <td>34.951614</td>\n",
       "      <td>34.981621</td>\n",
       "    </tr>\n",
       "    <tr>\n",
       "      <th>17</th>\n",
       "      <td>34.511758</td>\n",
       "      <td>34.546634</td>\n",
       "      <td>34.541041</td>\n",
       "    </tr>\n",
       "    <tr>\n",
       "      <th>18</th>\n",
       "      <td>34.574965</td>\n",
       "      <td>34.581954</td>\n",
       "      <td>34.576978</td>\n",
       "    </tr>\n",
       "    <tr>\n",
       "      <th>19</th>\n",
       "      <td>34.763893</td>\n",
       "      <td>34.815773</td>\n",
       "      <td>34.815905</td>\n",
       "    </tr>\n",
       "    <tr>\n",
       "      <th>20</th>\n",
       "      <td>34.535692</td>\n",
       "      <td>34.526546</td>\n",
       "      <td>34.553105</td>\n",
       "    </tr>\n",
       "    <tr>\n",
       "      <th>21</th>\n",
       "      <td>34.856488</td>\n",
       "      <td>34.798836</td>\n",
       "      <td>34.834991</td>\n",
       "    </tr>\n",
       "    <tr>\n",
       "      <th>22</th>\n",
       "      <td>34.716618</td>\n",
       "      <td>34.673046</td>\n",
       "      <td>34.668493</td>\n",
       "    </tr>\n",
       "    <tr>\n",
       "      <th>23</th>\n",
       "      <td>34.813029</td>\n",
       "      <td>34.804125</td>\n",
       "      <td>34.801019</td>\n",
       "    </tr>\n",
       "    <tr>\n",
       "      <th>24</th>\n",
       "      <td>35.035910</td>\n",
       "      <td>34.989580</td>\n",
       "      <td>35.031675</td>\n",
       "    </tr>\n",
       "    <tr>\n",
       "      <th>25</th>\n",
       "      <td>34.958616</td>\n",
       "      <td>34.913070</td>\n",
       "      <td>34.925110</td>\n",
       "    </tr>\n",
       "    <tr>\n",
       "      <th>26</th>\n",
       "      <td>35.147314</td>\n",
       "      <td>35.148016</td>\n",
       "      <td>35.146126</td>\n",
       "    </tr>\n",
       "    <tr>\n",
       "      <th>27</th>\n",
       "      <td>34.859519</td>\n",
       "      <td>34.814570</td>\n",
       "      <td>34.806630</td>\n",
       "    </tr>\n",
       "    <tr>\n",
       "      <th>28</th>\n",
       "      <td>35.110900</td>\n",
       "      <td>35.121506</td>\n",
       "      <td>35.117619</td>\n",
       "    </tr>\n",
       "    <tr>\n",
       "      <th>29</th>\n",
       "      <td>35.092641</td>\n",
       "      <td>35.070745</td>\n",
       "      <td>35.085258</td>\n",
       "    </tr>\n",
       "  </tbody>\n",
       "</table>\n",
       "</div>"
      ],
      "text/plain": [
       "           lr      lasso      ridge\n",
       "0   35.047684  35.057169  35.060643\n",
       "1   35.005884  35.013995  35.011198\n",
       "2   34.809860  34.789726  34.781805\n",
       "3   35.002044  34.983979  34.954464\n",
       "4   34.906205  34.874057  34.869832\n",
       "5   34.664835  34.668946  34.676653\n",
       "6   35.032052  35.021703  35.078776\n",
       "7   34.946639  34.952433  34.978244\n",
       "8   35.214571  35.242153  35.233490\n",
       "9   35.160298  35.149699  35.174972\n",
       "10  35.191745  35.181682  35.227541\n",
       "11  34.968115  34.961409  34.963949\n",
       "12  34.514958  34.524033  34.498628\n",
       "13  34.544780  34.560426  34.583799\n",
       "14  34.770063  34.739000  34.765388\n",
       "15  34.581708  34.599103  34.606742\n",
       "16  34.947037  34.951614  34.981621\n",
       "17  34.511758  34.546634  34.541041\n",
       "18  34.574965  34.581954  34.576978\n",
       "19  34.763893  34.815773  34.815905\n",
       "20  34.535692  34.526546  34.553105\n",
       "21  34.856488  34.798836  34.834991\n",
       "22  34.716618  34.673046  34.668493\n",
       "23  34.813029  34.804125  34.801019\n",
       "24  35.035910  34.989580  35.031675\n",
       "25  34.958616  34.913070  34.925110\n",
       "26  35.147314  35.148016  35.146126\n",
       "27  34.859519  34.814570  34.806630\n",
       "28  35.110900  35.121506  35.117619\n",
       "29  35.092641  35.070745  35.085258"
      ]
     },
     "execution_count": 72,
     "metadata": {},
     "output_type": "execute_result"
    }
   ],
   "source": [
    "ans.head(30)"
   ]
  },
  {
   "cell_type": "code",
   "execution_count": 73,
   "metadata": {},
   "outputs": [],
   "source": [
    "ans.to_csv(\"ass1(2021311558).csv\",index =False)"
   ]
  },
  {
   "cell_type": "markdown",
   "metadata": {},
   "source": [
    "## PRED 한 값들 비교"
   ]
  },
  {
   "cell_type": "code",
   "execution_count": 74,
   "metadata": {},
   "outputs": [
    {
     "data": {
      "text/plain": [
       "0.0006830133630867504"
      ]
     },
     "execution_count": 74,
     "metadata": {},
     "output_type": "execute_result"
    }
   ],
   "source": [
    "mean_squared_error(ans['lr'],ans['lasso'])"
   ]
  },
  {
   "cell_type": "code",
   "execution_count": 75,
   "metadata": {},
   "outputs": [
    {
     "data": {
      "text/plain": [
       "0.00072703352694471"
      ]
     },
     "execution_count": 75,
     "metadata": {},
     "output_type": "execute_result"
    }
   ],
   "source": [
    "mean_squared_error(ans['lr'],ans['ridge'])"
   ]
  },
  {
   "cell_type": "code",
   "execution_count": 76,
   "metadata": {},
   "outputs": [
    {
     "data": {
      "text/plain": [
       "0.0005539629653127639"
      ]
     },
     "execution_count": 76,
     "metadata": {},
     "output_type": "execute_result"
    }
   ],
   "source": [
    "mean_squared_error(ans['lasso'],ans['ridge'])"
   ]
  },
  {
   "cell_type": "code",
   "execution_count": null,
   "metadata": {},
   "outputs": [],
   "source": []
  }
 ],
 "metadata": {
  "kernelspec": {
   "display_name": "Python 3",
   "language": "python",
   "name": "python3"
  },
  "language_info": {
   "codemirror_mode": {
    "name": "ipython",
    "version": 3
   },
   "file_extension": ".py",
   "mimetype": "text/x-python",
   "name": "python",
   "nbconvert_exporter": "python",
   "pygments_lexer": "ipython3",
   "version": "3.8.5"
  }
 },
 "nbformat": 4,
 "nbformat_minor": 4
}
