{
 "cells": [
  {
   "cell_type": "markdown",
   "metadata": {},
   "source": [
    "## DATA LOAD"
   ]
  },
  {
   "cell_type": "code",
   "execution_count": 5,
   "metadata": {},
   "outputs": [],
   "source": [
    "import numpy as np\n",
    "import pandas as pd\n",
    "from sklearn.linear_model import LinearRegression\n",
    "from sklearn.metrics import f1_score\n",
    "from sklearn.model_selection import train_test_split\n",
    "from sklearn.metrics import mean_squared_error\n",
    "from sklearn import linear_model\n",
    "from sklearn.linear_model import Ridge\n",
    "import pywt\n",
    "from sklearn.preprocessing import MinMaxScaler\n",
    "\n",
    "# 최대 줄 수 설정\n",
    "#pd.set_option('display.max_rows', 500)\n",
    "# 최대 열 수 설정\n",
    "#pd.set_option('display.max_columns', 500)"
   ]
  },
  {
   "cell_type": "code",
   "execution_count": 6,
   "metadata": {},
   "outputs": [],
   "source": [
    "data_x = pd.read_csv(\"train_x_1.csv\")\n",
    "data_y = pd.read_csv(\"train_y_1.csv\")\n",
    "del data_y['ID']"
   ]
  },
  {
   "cell_type": "code",
   "execution_count": 3,
   "metadata": {},
   "outputs": [],
   "source": [
    "test_x = pd.read_csv(\"test_x_1.csv\")\n"
   ]
  },
  {
   "cell_type": "code",
   "execution_count": 8,
   "metadata": {},
   "outputs": [
    {
     "data": {
      "text/html": [
       "<div>\n",
       "<style scoped>\n",
       "    .dataframe tbody tr th:only-of-type {\n",
       "        vertical-align: middle;\n",
       "    }\n",
       "\n",
       "    .dataframe tbody tr th {\n",
       "        vertical-align: top;\n",
       "    }\n",
       "\n",
       "    .dataframe thead th {\n",
       "        text-align: right;\n",
       "    }\n",
       "</style>\n",
       "<table border=\"1\" class=\"dataframe\">\n",
       "  <thead>\n",
       "    <tr style=\"text-align: right;\">\n",
       "      <th></th>\n",
       "      <th>ID</th>\n",
       "      <th>0</th>\n",
       "      <th>1</th>\n",
       "      <th>2</th>\n",
       "      <th>3</th>\n",
       "      <th>4</th>\n",
       "      <th>5</th>\n",
       "      <th>6</th>\n",
       "      <th>7</th>\n",
       "      <th>8</th>\n",
       "      <th>...</th>\n",
       "      <th>658</th>\n",
       "      <th>659</th>\n",
       "      <th>660</th>\n",
       "      <th>661</th>\n",
       "      <th>662</th>\n",
       "      <th>663</th>\n",
       "      <th>664</th>\n",
       "      <th>665</th>\n",
       "      <th>666</th>\n",
       "      <th>667</th>\n",
       "    </tr>\n",
       "  </thead>\n",
       "  <tbody>\n",
       "    <tr>\n",
       "      <th>0</th>\n",
       "      <td>0</td>\n",
       "      <td>5519</td>\n",
       "      <td>4651</td>\n",
       "      <td>3787</td>\n",
       "      <td>3619</td>\n",
       "      <td>3714</td>\n",
       "      <td>3936</td>\n",
       "      <td>4137</td>\n",
       "      <td>3874</td>\n",
       "      <td>3414</td>\n",
       "      <td>...</td>\n",
       "      <td>1171</td>\n",
       "      <td>1356</td>\n",
       "      <td>1430</td>\n",
       "      <td>1455</td>\n",
       "      <td>1538</td>\n",
       "      <td>1656</td>\n",
       "      <td>1802</td>\n",
       "      <td>2017</td>\n",
       "      <td>2306</td>\n",
       "      <td>2568</td>\n",
       "    </tr>\n",
       "    <tr>\n",
       "      <th>1</th>\n",
       "      <td>0</td>\n",
       "      <td>5511</td>\n",
       "      <td>4645</td>\n",
       "      <td>3769</td>\n",
       "      <td>3640</td>\n",
       "      <td>3707</td>\n",
       "      <td>3928</td>\n",
       "      <td>4138</td>\n",
       "      <td>3867</td>\n",
       "      <td>3433</td>\n",
       "      <td>...</td>\n",
       "      <td>1174</td>\n",
       "      <td>1354</td>\n",
       "      <td>1429</td>\n",
       "      <td>1462</td>\n",
       "      <td>1539</td>\n",
       "      <td>1664</td>\n",
       "      <td>1812</td>\n",
       "      <td>2011</td>\n",
       "      <td>2302</td>\n",
       "      <td>2571</td>\n",
       "    </tr>\n",
       "    <tr>\n",
       "      <th>2</th>\n",
       "      <td>0</td>\n",
       "      <td>5490</td>\n",
       "      <td>4626</td>\n",
       "      <td>3769</td>\n",
       "      <td>3607</td>\n",
       "      <td>3692</td>\n",
       "      <td>3921</td>\n",
       "      <td>4111</td>\n",
       "      <td>3847</td>\n",
       "      <td>3398</td>\n",
       "      <td>...</td>\n",
       "      <td>1169</td>\n",
       "      <td>1351</td>\n",
       "      <td>1424</td>\n",
       "      <td>1453</td>\n",
       "      <td>1539</td>\n",
       "      <td>1657</td>\n",
       "      <td>1805</td>\n",
       "      <td>2013</td>\n",
       "      <td>2296</td>\n",
       "      <td>2550</td>\n",
       "    </tr>\n",
       "    <tr>\n",
       "      <th>3</th>\n",
       "      <td>0</td>\n",
       "      <td>5487</td>\n",
       "      <td>4629</td>\n",
       "      <td>3766</td>\n",
       "      <td>3610</td>\n",
       "      <td>3693</td>\n",
       "      <td>3916</td>\n",
       "      <td>4122</td>\n",
       "      <td>3850</td>\n",
       "      <td>3415</td>\n",
       "      <td>...</td>\n",
       "      <td>1166</td>\n",
       "      <td>1353</td>\n",
       "      <td>1431</td>\n",
       "      <td>1455</td>\n",
       "      <td>1537</td>\n",
       "      <td>1650</td>\n",
       "      <td>1784</td>\n",
       "      <td>2001</td>\n",
       "      <td>2306</td>\n",
       "      <td>2574</td>\n",
       "    </tr>\n",
       "    <tr>\n",
       "      <th>4</th>\n",
       "      <td>0</td>\n",
       "      <td>5464</td>\n",
       "      <td>4616</td>\n",
       "      <td>3758</td>\n",
       "      <td>3595</td>\n",
       "      <td>3708</td>\n",
       "      <td>3942</td>\n",
       "      <td>4133</td>\n",
       "      <td>3848</td>\n",
       "      <td>3398</td>\n",
       "      <td>...</td>\n",
       "      <td>1167</td>\n",
       "      <td>1351</td>\n",
       "      <td>1427</td>\n",
       "      <td>1454</td>\n",
       "      <td>1532</td>\n",
       "      <td>1652</td>\n",
       "      <td>1807</td>\n",
       "      <td>2010</td>\n",
       "      <td>2293</td>\n",
       "      <td>2566</td>\n",
       "    </tr>\n",
       "  </tbody>\n",
       "</table>\n",
       "<p>5 rows × 669 columns</p>\n",
       "</div>"
      ],
      "text/plain": [
       "   ID     0     1     2     3     4     5     6     7     8  ...   658   659  \\\n",
       "0   0  5519  4651  3787  3619  3714  3936  4137  3874  3414  ...  1171  1356   \n",
       "1   0  5511  4645  3769  3640  3707  3928  4138  3867  3433  ...  1174  1354   \n",
       "2   0  5490  4626  3769  3607  3692  3921  4111  3847  3398  ...  1169  1351   \n",
       "3   0  5487  4629  3766  3610  3693  3916  4122  3850  3415  ...  1166  1353   \n",
       "4   0  5464  4616  3758  3595  3708  3942  4133  3848  3398  ...  1167  1351   \n",
       "\n",
       "    660   661   662   663   664   665   666   667  \n",
       "0  1430  1455  1538  1656  1802  2017  2306  2568  \n",
       "1  1429  1462  1539  1664  1812  2011  2302  2571  \n",
       "2  1424  1453  1539  1657  1805  2013  2296  2550  \n",
       "3  1431  1455  1537  1650  1784  2001  2306  2574  \n",
       "4  1427  1454  1532  1652  1807  2010  2293  2566  \n",
       "\n",
       "[5 rows x 669 columns]"
      ]
     },
     "execution_count": 8,
     "metadata": {},
     "output_type": "execute_result"
    }
   ],
   "source": [
    "data_x.head()"
   ]
  },
  {
   "cell_type": "markdown",
   "metadata": {},
   "source": [
    "## DATA PROPRECESSING\n",
    "\n",
    "+ 공정 데이터로 ID 별로 1698개의 시계열 데이터를 가지고 있고, 667개의 변수를 가지고 있다.\n",
    "+ ID가 400개 밖에 안되기 때문에, 대표적이 LARGE P , SMALL N 문제라고 볼 수 있다"
   ]
  },
  {
   "cell_type": "markdown",
   "metadata": {},
   "source": [
    "### 기초 통계량 "
   ]
  },
  {
   "cell_type": "code",
   "execution_count": 50,
   "metadata": {},
   "outputs": [],
   "source": [
    "def basic(data_x):\n",
    "    mean_df = data_x.groupby(by= 'ID').mean()\n",
    "    std_df = data_x.groupby(by= 'ID').std()\n",
    "    max_df = data_x.groupby(by= 'ID').max()\n",
    "    min_df = data_x.groupby(by= 'ID').min()\n",
    "    q1_df = data_x.groupby(by= 'ID').quantile(.25)\n",
    "    q2_df = data_x.groupby(by= 'ID').quantile(.50)\n",
    "    q3_df = data_x.groupby(by= 'ID').quantile(.75)\n",
    "    \n",
    "    basic_df = pd.concat([mean_df,std_df,max_df,min_df,q1_df,q2_df,q3_df],axis=1)\n",
    "    return basic_df\n",
    "\n",
    "basic_df = basic(data_x)"
   ]
  },
  {
   "cell_type": "code",
   "execution_count": 146,
   "metadata": {},
   "outputs": [],
   "source": [
    "basic_df = pd.concat([mean_df,std_df,max_df,min_df,q1_df,q2_df,q3_df],axis=1)\n",
    "basic_df.to_csv(\"basic.csv\",index =False)"
   ]
  },
  {
   "cell_type": "code",
   "execution_count": 51,
   "metadata": {},
   "outputs": [],
   "source": [
    "t_basic_df = basic(test_x)"
   ]
  },
  {
   "cell_type": "code",
   "execution_count": 52,
   "metadata": {},
   "outputs": [],
   "source": [
    "#TEST SET\n",
    "t_basic_df.to_csv(\"t_basic.csv\",index =False)"
   ]
  },
  {
   "cell_type": "code",
   "execution_count": 55,
   "metadata": {},
   "outputs": [
    {
     "data": {
      "text/plain": [
       "(101, 4676)"
      ]
     },
     "execution_count": 55,
     "metadata": {},
     "output_type": "execute_result"
    }
   ],
   "source": [
    "t_basic_df.shape"
   ]
  },
  {
   "cell_type": "markdown",
   "metadata": {},
   "source": [
    "### 1. 단위별 평균 값\n",
    "- lm 에서는 100개씩 lenth = 5일때 성능이 제일 좋음\n",
    "- Lasso는 ?\n",
    "- Ridge는 가장 많이 나눌 때 성능ㅇ ㅣ좋음"
   ]
  },
  {
   "cell_type": "code",
   "execution_count": 223,
   "metadata": {},
   "outputs": [],
   "source": [
    "split_data = []\n",
    "def cutting(start,lenth):\n",
    "    tem_index = []\n",
    "    if start == 1600:\n",
    "        lenth = 97\n",
    "    \n",
    "    for num in range(404):\n",
    "        tem = [i for i in range(1697*num+start, 1697*num+start+lenth)]\n",
    "        tem_index.extend(tem)\n",
    "        \n",
    "    return tem_index\n",
    "    \n",
    "\n",
    "for N in range(0,17):\n",
    "    tem = cutting(N*100,5)\n",
    "    split_data.append(tem)\n",
    "    \n",
    "# 마지막 \n",
    "\n"
   ]
  },
  {
   "cell_type": "code",
   "execution_count": 216,
   "metadata": {},
   "outputs": [],
   "source": [
    "data_house = []\n",
    "for idx in split_data:\n",
    "    tem_data = data_x.iloc[idx]\n",
    "    tem_mean = tem_data.groupby(by= 'ID').mean()\n",
    "    #tem_std = tem_data.groupby(by= 'ID').std()\n",
    "    #tem_max = tem_data.groupby(by= 'ID').max()\n",
    "    #tem_min = tem_data.groupby(by= 'ID').min()\n",
    "    data_house.append(tem_mean)\n",
    "    #data_house.append(tem_std)\n",
    "    #data_house.append(tem_max)\n",
    "    #data_house.append(tem_min)"
   ]
  },
  {
   "cell_type": "code",
   "execution_count": 217,
   "metadata": {},
   "outputs": [],
   "source": [
    "basic_df = pd.concat([data for data in data_house],axis=1)"
   ]
  },
  {
   "cell_type": "code",
   "execution_count": 218,
   "metadata": {},
   "outputs": [
    {
     "data": {
      "text/plain": [
       "(404, 11356)"
      ]
     },
     "execution_count": 218,
     "metadata": {},
     "output_type": "execute_result"
    }
   ],
   "source": [
    "basic_df.shape"
   ]
  },
  {
   "cell_type": "code",
   "execution_count": 222,
   "metadata": {},
   "outputs": [],
   "source": [
    "#basic_df.to_csv(\"r_data_div_100_len5.csv\",index =False)"
   ]
  },
  {
   "cell_type": "code",
   "execution_count": null,
   "metadata": {},
   "outputs": [],
   "source": [
    "#test"
   ]
  },
  {
   "cell_type": "code",
   "execution_count": 71,
   "metadata": {},
   "outputs": [],
   "source": [
    "t_split_data = []\n",
    "def cutting(start,lenth):\n",
    "    tem_index = []\n",
    "    if start == 1600:\n",
    "        lenth = 97\n",
    "    \n",
    "    for num in range(101):\n",
    "        tem = [i for i in range(1697*num+start, 1697*num+start+lenth)]\n",
    "        tem_index.extend(tem)\n",
    "        \n",
    "    return tem_index\n",
    "    \n",
    "\n",
    "for N in range(0,17):\n",
    "    tem = cutting(N*100,5)\n",
    "    t_split_data.append(tem)"
   ]
  },
  {
   "cell_type": "code",
   "execution_count": 72,
   "metadata": {},
   "outputs": [],
   "source": [
    "t_data_house = []\n",
    "for idx in t_split_data:\n",
    "    tem_data = test_x.iloc[idx]\n",
    "    tem_mean = tem_data.groupby(by= 'ID').mean()\n",
    "    t_data_house.append(tem_mean)"
   ]
  },
  {
   "cell_type": "code",
   "execution_count": 73,
   "metadata": {},
   "outputs": [
    {
     "data": {
      "text/plain": [
       "(101, 11356)"
      ]
     },
     "execution_count": 73,
     "metadata": {},
     "output_type": "execute_result"
    }
   ],
   "source": [
    "t_basic_df = pd.concat([data for data in t_data_house],axis=1)\n",
    "t_basic_df.shape"
   ]
  },
  {
   "cell_type": "code",
   "execution_count": 74,
   "metadata": {},
   "outputs": [],
   "source": [
    "t_basic_df.to_csv(\"t_div_100.csv\",index =False)"
   ]
  },
  {
   "cell_type": "markdown",
   "metadata": {},
   "source": [
    "### 2.  max es반영 (max 2,3,4 번째 데이터 더 반영)(효과X)"
   ]
  },
  {
   "cell_type": "code",
   "execution_count": 134,
   "metadata": {},
   "outputs": [
    {
     "name": "stderr",
     "output_type": "stream",
     "text": [
      "100%|████████████████████████████████████████████████████████████████████████████████████| 9/9 [08:22<00:00, 55.81s/it]\n"
     ]
    },
    {
     "data": {
      "text/plain": [
       "9"
      ]
     },
     "execution_count": 134,
     "metadata": {},
     "output_type": "execute_result"
    }
   ],
   "source": [
    "import tqdm as tqdm\n",
    "max_list = []\n",
    "for i in tqdm.tqdm(range(1,10)):\n",
    "    tem = 0.9 * 0.1**i \n",
    "    tem_data = data_x.groupby(by= 'ID').quantile(tem)\n",
    "    max_list.append(tem_data)\n",
    "len(max_list)"
   ]
  },
  {
   "cell_type": "code",
   "execution_count": 136,
   "metadata": {},
   "outputs": [
    {
     "data": {
      "text/plain": [
       "(404, 6012)"
      ]
     },
     "execution_count": 136,
     "metadata": {},
     "output_type": "execute_result"
    }
   ],
   "source": [
    "maxes_data = pd.concat([x for x in max_list],axis=1)\n",
    "maxes_data.shape"
   ]
  },
  {
   "cell_type": "markdown",
   "metadata": {},
   "source": [
    "### 3. q4~ W1~W6 변수 (HANDS ON)"
   ]
  },
  {
   "cell_type": "code",
   "execution_count": 67,
   "metadata": {},
   "outputs": [],
   "source": [
    "def hands(data_x):\n",
    "    q4_df = data_x.groupby(by= 'ID').quantile(.85)\n",
    "    q5_df = data_x.groupby(by= 'ID').quantile(.91)\n",
    "\n",
    "    q6_df = data_x.groupby(by= 'ID').quantile(.95)\n",
    "    q7_df = data_x.groupby(by= 'ID').quantile(.98)\n",
    "\n",
    "    q8_df = data_x.groupby(by= 'ID').quantile(.99)\n",
    "    q9_df = data_x.groupby(by= 'ID').quantile(.995)\n",
    "    q10_df = data_x.groupby(by= 'ID').quantile(.999)\n",
    "    \n",
    "    w1 = data_x.groupby(by= 'ID').quantile(.9992)\n",
    "    w2 = data_x.groupby(by= 'ID').quantile(.9995)\n",
    "    w3 = data_x.groupby(by= 'ID').quantile(.9998)\n",
    "    \n",
    "    w4 = data_x.groupby(by= 'ID').quantile(.9999)\n",
    "    w5 = data_x.groupby(by= 'ID').quantile(.99993)\n",
    "    w6 = data_x.groupby(by= 'ID').quantile(.99998)\n",
    "\n",
    "    tem = pd.concat([q4_df,q5_df,q6_df,q7_df,q8_df,q9_df,q10_df,w1,w2,w3,w4,w5,w6],axis = 1)\n",
    "    \n",
    "    return tem"
   ]
  },
  {
   "cell_type": "code",
   "execution_count": null,
   "metadata": {},
   "outputs": [],
   "source": [
    "hands_on = pd.concat([q4_df,q5_df,q6_df,q7_df,q8_df,q9_df,q10_df,w1,w2,w3,w4,w5,w6],axis = 1)\n",
    "hands_on.to_csv(\"hands_w6.csv\",index =False)"
   ]
  },
  {
   "cell_type": "code",
   "execution_count": 68,
   "metadata": {},
   "outputs": [
    {
     "data": {
      "text/plain": [
       "(101, 8684)"
      ]
     },
     "execution_count": 68,
     "metadata": {},
     "output_type": "execute_result"
    }
   ],
   "source": [
    "t_hands_on = hands(test_x)\n",
    "t_hands_on.shape"
   ]
  },
  {
   "cell_type": "code",
   "execution_count": 69,
   "metadata": {},
   "outputs": [],
   "source": [
    "t_hands_on.to_csv(\"t_hands_w6.csv\",index =False)"
   ]
  },
  {
   "cell_type": "markdown",
   "metadata": {},
   "source": [
    "# K-fold"
   ]
  },
  {
   "cell_type": "code",
   "execution_count": 138,
   "metadata": {},
   "outputs": [],
   "source": [
    "from sklearn.model_selection import KFold\n",
    "\n",
    "def k_fold(basic_df,model):\n",
    "    split_num =10\n",
    "    kfold = KFold(n_splits=split_num, shuffle=True, random_state=10)\n",
    "    score = []\n",
    "    for train_index,test_index in kfold.split(basic_df):\n",
    "        train_x,valid_x = basic_df.iloc[train_index],basic_df.iloc[test_index]\n",
    "        train_y,valid_y = data_y.iloc[train_index],data_y.iloc[test_index]\n",
    "        \n",
    "        #model select\n",
    "        if model == \"lm\":\n",
    "            model_use = LinearRegression(fit_intercept=True, normalize=True, n_jobs=None)\n",
    "        \n",
    "        elif model == \"lasso\":\n",
    "            model_use = linear_model.Lasso(alpha=0.1)\n",
    "        elif model == \"ridge\":\n",
    "            model_use = Ridge(alpha=0.1)\n",
    "        else:\n",
    "            print(\"모델이 존재하지 않습니다.\")\n",
    "            break\n",
    "        model_use.fit(train_x, train_y)\n",
    "    \n",
    "        valid_pred = model_use.predict(valid_x)\n",
    "        tem = mean_squared_error(valid_pred,valid_y)\n",
    "    \n",
    "        score.append(tem)\n",
    "        print(\"=============================check=================================\")\n",
    "        \n",
    "    total_score = np.mean(score)\n",
    "    print(\"%s 모델 K-fold 결과 : %f \"%(model,total_score))\n",
    "    return\n",
    "        "
   ]
  },
  {
   "cell_type": "code",
   "execution_count": 143,
   "metadata": {},
   "outputs": [],
   "source": [
    "maxes_data.to_csv(\"maxes_data.csv\",index =False)"
   ]
  },
  {
   "cell_type": "code",
   "execution_count": 141,
   "metadata": {},
   "outputs": [
    {
     "name": "stdout",
     "output_type": "stream",
     "text": [
      "=============================check=================================\n",
      "=============================check=================================\n",
      "=============================check=================================\n",
      "=============================check=================================\n",
      "=============================check=================================\n",
      "=============================check=================================\n",
      "=============================check=================================\n",
      "=============================check=================================\n",
      "=============================check=================================\n",
      "=============================check=================================\n",
      "ridge 모델 K-fold 결과 : 0.212473 \n"
     ]
    }
   ],
   "source": [
    "k_fold(maxes_data,\"ridge\")\n",
    "# div100 len5 -> 0.0589 -> 기존과 결합했을 때 가장 준수한 성능 \n",
    "# div25 len5 -> 0.0573\n",
    "# div 1- len5 -> 0.0565"
   ]
  },
  {
   "cell_type": "markdown",
   "metadata": {},
   "source": [
    "# ==========================================================="
   ]
  },
  {
   "cell_type": "markdown",
   "metadata": {},
   "source": [
    "### 1.2 Wavelet"
   ]
  },
  {
   "cell_type": "code",
   "execution_count": 148,
   "metadata": {},
   "outputs": [],
   "source": [
    "test = data_x['1']"
   ]
  },
  {
   "cell_type": "code",
   "execution_count": 149,
   "metadata": {},
   "outputs": [],
   "source": [
    "cA, cD = pywt.dwt(test, 'db1')"
   ]
  },
  {
   "cell_type": "code",
   "execution_count": 150,
   "metadata": {},
   "outputs": [
    {
     "data": {
      "text/plain": [
       "(342794,)"
      ]
     },
     "execution_count": 150,
     "metadata": {},
     "output_type": "execute_result"
    }
   ],
   "source": [
    "cA.shape"
   ]
  },
  {
   "cell_type": "code",
   "execution_count": 4,
   "metadata": {},
   "outputs": [],
   "source": [
    "cA, cD = pywt.dwt(data_x, 'db1')\n",
    "wave = pd.concat([pd.DataFrame(cA),pd.DataFrame(cD)],axis = 1)\n",
    "wave['ID'] = data_x['ID']\n",
    "\n",
    "mean_df = wave.groupby(by= 'ID').mean()\n",
    "std_df = wave.groupby(by= 'ID').std()\n",
    "max_df = wave.groupby(by= 'ID').max()\n",
    "min_df = wave.groupby(by= 'ID').min()\n",
    "\n",
    "wave_df = pd.concat([mean_df],axis = 1)\n",
    "wave_df.to_csv(\"wave_df_meanonly.csv\",index=False)"
   ]
  },
  {
   "cell_type": "code",
   "execution_count": 5,
   "metadata": {},
   "outputs": [],
   "source": [
    "wave_df = pd.concat([mean_df,std_df,max_df,min_df],axis = 1)\n",
    "wave_df.to_csv(\"wave_df.csv\",index=False)"
   ]
  },
  {
   "cell_type": "code",
   "execution_count": 6,
   "metadata": {},
   "outputs": [],
   "source": [
    "cA, cD = pywt.dwt(test_x, 'db1')\n",
    "wave = pd.concat([pd.DataFrame(cA),pd.DataFrame(cD)],axis = 1)\n",
    "wave['ID'] = test_x['ID']\n",
    "\n",
    "mean_df = wave.groupby(by= 'ID').mean()\n",
    "std_df = wave.groupby(by= 'ID').std()\n",
    "max_df = wave.groupby(by= 'ID').max()\n",
    "min_df = wave.groupby(by= 'ID').min()\n",
    "\n",
    "t_wave_df = pd.concat([mean_df],axis = 1)\n",
    "t_wave_df.to_csv(\"t_wave_df_meanonly.csv\",index=False)"
   ]
  },
  {
   "cell_type": "code",
   "execution_count": 7,
   "metadata": {},
   "outputs": [],
   "source": [
    "t_wave_df = pd.concat([mean_df,std_df,max_df,min_df],axis = 1)\n",
    "t_wave_df.to_csv(\"t_wave_df.csv\",index=False)"
   ]
  },
  {
   "cell_type": "markdown",
   "metadata": {},
   "source": [
    "## 시계열을 자체를 PCA 해보기 ( 효과 X)"
   ]
  },
  {
   "cell_type": "code",
   "execution_count": 5,
   "metadata": {},
   "outputs": [],
   "source": [
    "from sklearn.decomposition import PCA\n",
    "\n",
    "pca = PCA(n_components=50)\n",
    "tem = pca.fit_transform(data_x.T)\n",
    "\n",
    "pca_df = pd.DataFrame(tem)\n"
   ]
  },
  {
   "cell_type": "code",
   "execution_count": 8,
   "metadata": {},
   "outputs": [
    {
     "data": {
      "text/plain": [
       "(10, 669)"
      ]
     },
     "execution_count": 8,
     "metadata": {},
     "output_type": "execute_result"
    }
   ],
   "source": [
    "pca_df.T.shape"
   ]
  },
  {
   "cell_type": "code",
   "execution_count": 28,
   "metadata": {},
   "outputs": [
    {
     "name": "stderr",
     "output_type": "stream",
     "text": [
      "100%|████████████████████████████████████████████████████████████████████████████████| 404/404 [00:18<00:00, 21.33it/s]\n"
     ]
    }
   ],
   "source": [
    "from tqdm import tqdm\n",
    "pca_list =[]\n",
    "for num in tqdm(range(404)):\n",
    "    tem_data = data_x[data_x['ID'] == num] #ID별 데이터\n",
    "    \n",
    "    pca = PCA(n_components=50)\n",
    "    tem = pca.fit_transform(tem_data.T) \n",
    "    \n",
    "    tem2 = tem.T # 50 * 662\n",
    "    tem2 = tem2.reshape(-1)\n",
    "    pca_list.append(tem2)\n",
    "    "
   ]
  },
  {
   "cell_type": "code",
   "execution_count": 31,
   "metadata": {},
   "outputs": [],
   "source": [
    "pca_df = np.concatenate([i for i in pca_list],axis = 0)"
   ]
  },
  {
   "cell_type": "code",
   "execution_count": 42,
   "metadata": {},
   "outputs": [
    {
     "data": {
      "text/plain": [
       "(404, 33450)"
      ]
     },
     "execution_count": 42,
     "metadata": {},
     "output_type": "execute_result"
    }
   ],
   "source": [
    "a = np.array(pca_list)\n",
    "pca_df =  pd.DataFrame(a)\n",
    "pca_df.shape"
   ]
  },
  {
   "cell_type": "code",
   "execution_count": 47,
   "metadata": {},
   "outputs": [],
   "source": [
    "pca_df.to_csv(\"pca_df.csv\",index =False)"
   ]
  },
  {
   "cell_type": "markdown",
   "metadata": {},
   "source": [
    "## 구간별로 나눠서 표준편차 구하기 (효과 X)"
   ]
  },
  {
   "cell_type": "code",
   "execution_count": 4,
   "metadata": {},
   "outputs": [],
   "source": [
    "split_data = []\n",
    "def cutting(start,lenth):\n",
    "    tem_index = []\n",
    "    if start == 1600:\n",
    "        lenth = 97\n",
    "    \n",
    "    for num in range(404):\n",
    "        tem = [i for i in range(1697*num+start, 1697*num+start+lenth)]\n",
    "        tem_index.extend(tem)\n",
    "        \n",
    "    return tem_index\n",
    "    \n",
    "\n",
    "for N in range(0,17):\n",
    "    tem = cutting(N*100,100)\n",
    "    split_data.append(tem)\n",
    "    \n",
    "# 마지막 \n",
    "\n"
   ]
  },
  {
   "cell_type": "code",
   "execution_count": 5,
   "metadata": {},
   "outputs": [],
   "source": [
    "data_house = []\n",
    "for idx in split_data:\n",
    "    tem_data = data_x.iloc[idx]\n",
    "    #tem_mean = tem_data.groupby(by= 'ID').mean()\n",
    "    tem_std = tem_data.groupby(by= 'ID').std()\n",
    "    #tem_max = tem_data.groupby(by= 'ID').max()\n",
    "    #tem_min = tem_data.groupby(by= 'ID').min()\n",
    "    data_house.append(tem_std)\n",
    "    #data_house.append(tem_std)\n",
    "    #data_house.append(tem_max)\n",
    "    #data_house.append(tem_min)"
   ]
  },
  {
   "cell_type": "code",
   "execution_count": 6,
   "metadata": {},
   "outputs": [
    {
     "data": {
      "text/plain": [
       "(404, 11356)"
      ]
     },
     "execution_count": 6,
     "metadata": {},
     "output_type": "execute_result"
    }
   ],
   "source": [
    "std_df = pd.concat([data for data in data_house],axis=1)\n",
    "std_df.shape"
   ]
  },
  {
   "cell_type": "code",
   "execution_count": 8,
   "metadata": {},
   "outputs": [],
   "source": [
    "std_df.to_csv(\"std_div.csv\",index = False)"
   ]
  },
  {
   "cell_type": "markdown",
   "metadata": {},
   "source": [
    "## BASIC 2 - Quantile 값들 ( Q1,Q2 사이도 추가해보기 ) (효과)"
   ]
  },
  {
   "cell_type": "code",
   "execution_count": 9,
   "metadata": {},
   "outputs": [],
   "source": [
    "def basic(data_x):\n",
    "    mean_df = data_x.groupby(by= 'ID').mean()\n",
    "    std_df = data_x.groupby(by= 'ID').std()\n",
    "    max_df = data_x.groupby(by= 'ID').max()\n",
    "    min_df = data_x.groupby(by= 'ID').min()\n",
    "    q1_df = data_x.groupby(by= 'ID').quantile(.1)\n",
    "    q2_df = data_x.groupby(by= 'ID').quantile(.5)\n",
    "    q3_df = data_x.groupby(by= 'ID').quantile(.10)\n",
    "    q4_df = data_x.groupby(by= 'ID').quantile(.20)\n",
    "\n",
    "    q5_df = data_x.groupby(by= 'ID').quantile(.25)\n",
    "    q6_df = data_x.groupby(by= 'ID').quantile(.40)\n",
    "    q7_df = data_x.groupby(by= 'ID').quantile(.50)\n",
    "    q8_df = data_x.groupby(by= 'ID').quantile(.60)\n",
    "    q9_df = data_x.groupby(by= 'ID').quantile(.75)\n",
    "    \n",
    "    basic_df = pd.concat([mean_df,std_df,max_df,min_df,q1_df,q2_df,q3_df,q4_df,q5_df,q6_df,q7_df,q8_df,q9_df],axis=1)\n",
    "    return basic_df\n",
    "\n",
    "basic_df = basic(data_x)"
   ]
  },
  {
   "cell_type": "code",
   "execution_count": 10,
   "metadata": {},
   "outputs": [],
   "source": [
    "basic_df.to_csv(\"basic2_df.csv\",index = False)"
   ]
  },
  {
   "cell_type": "markdown",
   "metadata": {},
   "source": [
    "## 최근 시계열 짤라서 표준편차 구하기 (효과X) "
   ]
  },
  {
   "cell_type": "code",
   "execution_count": 41,
   "metadata": {},
   "outputs": [],
   "source": [
    "split_data = []\n",
    "def cutting(start,lenth):\n",
    "    tem_index = []\n",
    "    if start == 1600:\n",
    "        lenth = 97\n",
    "    \n",
    "    for num in range(404):\n",
    "        tem = [i for i in range(1697*num+start, 1697*num+start+lenth)]\n",
    "        tem_index.extend(tem)\n",
    "        \n",
    "    return tem_index\n",
    "    \n",
    "\n",
    "for N in range(0,17):\n",
    "    tem = cutting(N*100,5)\n",
    "    split_data.append(tem)\n",
    "    \n",
    "# 마지막 \n",
    "\n"
   ]
  },
  {
   "cell_type": "code",
   "execution_count": 42,
   "metadata": {},
   "outputs": [],
   "source": [
    "tem_index=[]\n",
    "for num in range(0,404):\n",
    "    tem = [i for i in range(1697*num, 1697*num+1600)]\n",
    "    tem_index.extend(tem)"
   ]
  },
  {
   "cell_type": "code",
   "execution_count": 43,
   "metadata": {},
   "outputs": [],
   "source": [
    "data_x.drop(tem_index,inplace = True)"
   ]
  },
  {
   "cell_type": "code",
   "execution_count": 44,
   "metadata": {},
   "outputs": [],
   "source": [
    "half_std = data_x.groupby(by = 'ID').std()"
   ]
  },
  {
   "cell_type": "code",
   "execution_count": 45,
   "metadata": {},
   "outputs": [],
   "source": [
    "half_std.to_csv(\"half_std.csv\",index = False)"
   ]
  },
  {
   "cell_type": "code",
   "execution_count": null,
   "metadata": {},
   "outputs": [],
   "source": []
  }
 ],
 "metadata": {
  "kernelspec": {
   "display_name": "Python 3",
   "language": "python",
   "name": "python3"
  },
  "language_info": {
   "codemirror_mode": {
    "name": "ipython",
    "version": 3
   },
   "file_extension": ".py",
   "mimetype": "text/x-python",
   "name": "python",
   "nbconvert_exporter": "python",
   "pygments_lexer": "ipython3",
   "version": "3.8.5"
  }
 },
 "nbformat": 4,
 "nbformat_minor": 4
}
